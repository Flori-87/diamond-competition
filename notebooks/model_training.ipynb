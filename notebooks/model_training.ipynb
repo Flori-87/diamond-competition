{
 "cells": [
  {
   "cell_type": "markdown",
   "metadata": {
    "colab_type": "text",
    "id": "waSO3ywqFK6A"
   },
   "source": [
    "# **Model Training**"
   ]
  },
  {
   "cell_type": "code",
   "execution_count": 1,
   "metadata": {
    "colab": {
     "base_uri": "https://localhost:8080/",
     "height": 124
    },
    "colab_type": "code",
    "id": "yCcXEcL7NBoB",
    "outputId": "1bdc914f-fd0e-4038-f3c9-bee1056b2d2d"
   },
   "outputs": [
    {
     "ename": "ModuleNotFoundError",
     "evalue": "No module named 'google.colab'",
     "output_type": "error",
     "traceback": [
      "\u001b[0;31m---------------------------------------------------------------------------\u001b[0m",
      "\u001b[0;31mModuleNotFoundError\u001b[0m                       Traceback (most recent call last)",
      "\u001b[0;32m<ipython-input-1-6fc81a951982>\u001b[0m in \u001b[0;36m<module>\u001b[0;34m()\u001b[0m\n\u001b[1;32m      1\u001b[0m \u001b[0;32mfrom\u001b[0m \u001b[0mos\u001b[0m\u001b[0;34m.\u001b[0m\u001b[0mpath\u001b[0m \u001b[0;32mimport\u001b[0m \u001b[0mjoin\u001b[0m\u001b[0;34m\u001b[0m\u001b[0;34m\u001b[0m\u001b[0m\n\u001b[0;32m----> 2\u001b[0;31m \u001b[0;32mfrom\u001b[0m \u001b[0mgoogle\u001b[0m\u001b[0;34m.\u001b[0m\u001b[0mcolab\u001b[0m \u001b[0;32mimport\u001b[0m \u001b[0mdrive\u001b[0m\u001b[0;34m\u001b[0m\u001b[0;34m\u001b[0m\u001b[0m\n\u001b[0m\u001b[1;32m      3\u001b[0m \u001b[0;31m# Montar el DRIVE\u001b[0m\u001b[0;34m\u001b[0m\u001b[0;34m\u001b[0m\u001b[0;34m\u001b[0m\u001b[0m\n\u001b[1;32m      4\u001b[0m \u001b[0mROOT\u001b[0m \u001b[0;34m=\u001b[0m \u001b[0;34m\"/content/drive\"\u001b[0m\u001b[0;34m\u001b[0m\u001b[0;34m\u001b[0m\u001b[0m\n\u001b[1;32m      5\u001b[0m \u001b[0mdrive\u001b[0m\u001b[0;34m.\u001b[0m\u001b[0mmount\u001b[0m\u001b[0;34m(\u001b[0m\u001b[0mROOT\u001b[0m\u001b[0;34m)\u001b[0m\u001b[0;31m# Apuntar a la carpeta de trabajo\u001b[0m\u001b[0;34m\u001b[0m\u001b[0;34m\u001b[0m\u001b[0m\n",
      "\u001b[0;31mModuleNotFoundError\u001b[0m: No module named 'google.colab'"
     ]
    }
   ],
   "source": [
    "from os.path import join\n",
    "from google.colab import drive\n",
    "# Montar el DRIVE\n",
    "ROOT = \"/content/drive\"\n",
    "drive.mount(ROOT)# Apuntar a la carpeta de trabajo\n",
    "PROJ = \"My Drive/output\" # This is a custom path.\n",
    "#PROJECT_PATH = join(ROOT, PROJ)\n"
   ]
  },
  {
   "cell_type": "code",
   "execution_count": null,
   "metadata": {
    "colab": {},
    "colab_type": "code",
    "id": "dxT-nmOBSmRp"
   },
   "outputs": [],
   "source": [
    "import pandas as pd\n",
    "import numpy as np\n",
    "from sklearn.svm import SVR, NuSVR\n",
    "from sklearn.linear_model import LinearRegression, Ridge, Lasso, BayesianRidge, SGDRegressor\n",
    "from sklearn.neighbors import KNeighborsRegressor, RadiusNeighborsRegressor\n",
    "from sklearn.gaussian_process import GaussianProcessRegressor\n",
    "from sklearn.cross_decomposition import PLSRegression\n",
    "from sklearn.tree import DecisionTreeRegressor, ExtraTreeRegressor\n",
    "from sklearn.dummy import DummyRegressor\n",
    "from sklearn.ensemble import AdaBoostRegressor, BaggingRegressor,ExtraTreesRegressor, GradientBoostingRegressor, RandomForestRegressor\n",
    "from sklearn.experimental import enable_hist_gradient_boosting\n",
    "from sklearn.ensemble import HistGradientBoostingRegressor\n",
    "import statsmodels.api as sm\n",
    "from sklearn.metrics import mean_squared_error, r2_score\n",
    "from math import sqrt\n",
    "from sklearn.model_selection import train_test_split\n",
    "from sklearn.model_selection import GridSearchCV\n"
   ]
  },
  {
   "cell_type": "code",
   "execution_count": null,
   "metadata": {
    "colab": {},
    "colab_type": "code",
    "id": "cECDOTcaIOQP"
   },
   "outputs": [],
   "source": [
    "X = pd.read_csv(join(PROJECT_PATH,'X.csv'))\n",
    "y = pd.read_csv(join(PROJECT_PATH,'y.csv'))"
   ]
  },
  {
   "cell_type": "code",
   "execution_count": null,
   "metadata": {
    "colab": {},
    "colab_type": "code",
    "id": "4b6FQ7V5QZ_D"
   },
   "outputs": [],
   "source": [
    "X = X.drop(columns=\"Unnamed: 0\")\n",
    "y = y.drop(columns=\"Unnamed: 0\")\n",
    "y = y[\"price\"]"
   ]
  },
  {
   "cell_type": "code",
   "execution_count": null,
   "metadata": {
    "colab": {},
    "colab_type": "code",
    "id": "fcBnFU3aIOQc"
   },
   "outputs": [],
   "source": [
    "X_train, X_test, y_train, y_test = train_test_split(X, y, test_size=0.2)"
   ]
  },
  {
   "cell_type": "markdown",
   "metadata": {
    "colab_type": "text",
    "id": "6-vRKoLzFdEk"
   },
   "source": [
    "**This is a regression issue** --> Calculate a price based on diamond characteristics.\n",
    "Therefore, train different algorithms for regressions"
   ]
  },
  {
   "cell_type": "code",
   "execution_count": 11,
   "metadata": {
    "colab": {
     "base_uri": "https://localhost:8080/",
     "height": 350
    },
    "colab_type": "code",
    "id": "c76R0J9pIOQj",
    "outputId": "4acccf40-5c13-4c67-d2f6-eba8c0609e66"
   },
   "outputs": [
    {
     "name": "stdout",
     "output_type": "stream",
     "text": [
      "Training model: RegresionLineal\n",
      "Training model: Ridge\n",
      "Training model: Lasso\n"
     ]
    },
    {
     "name": "stderr",
     "output_type": "stream",
     "text": [
      "/usr/local/lib/python3.6/dist-packages/sklearn/linear_model/_coordinate_descent.py:476: ConvergenceWarning: Objective did not converge. You might want to increase the number of iterations. Duality gap: 17628450487.033882, tolerance: 51103061.05889814\n",
      "  positive)\n"
     ]
    },
    {
     "name": "stdout",
     "output_type": "stream",
     "text": [
      "Training model: Bayesian\n",
      "Training model: SVR\n",
      "Training model: KNeighbors\n",
      "Training model: RadiusNeighbors\n",
      "Training model: DecisionTree\n",
      "Training model: ExtraTree\n",
      "Training model: Dummy\n",
      "Training model: Ada Boost\n",
      "Training model: Bagging\n",
      "Training model: ExtraTrees\n",
      "Training model: GradientBoosting\n",
      "Training model: RandomForest\n",
      "Training model: HistGradientBoost\n"
     ]
    }
   ],
   "source": [
    "models = {\n",
    "    \"RegresionLineal\" : LinearRegression(),\n",
    "    \"Ridge\": Ridge(alpha=.5),\n",
    "    \"Lasso\": Lasso(alpha=0.1),\n",
    "    \"Bayesian\": BayesianRidge(),\n",
    "    \"SVR\": SVR(),\n",
    "    \"KNeighbors\": KNeighborsRegressor(),\n",
    "    \"RadiusNeighbors\": RadiusNeighborsRegressor(),\n",
    "    \"DecisionTree\": DecisionTreeRegressor(),\n",
    "    \"ExtraTree\": ExtraTreeRegressor(),\n",
    "    \"Dummy\": DummyRegressor(),\n",
    "    \"Ada Boost\": AdaBoostRegressor(),\n",
    "    \"Bagging\": BaggingRegressor(),\n",
    "    \"ExtraTrees\": ExtraTreesRegressor(),\n",
    "    \"GradientBoosting\" : GradientBoostingRegressor(),\n",
    "    \"RandomForest\" : RandomForestRegressor(),\n",
    "    \"HistGradientBoost\": HistGradientBoostingRegressor(),\n",
    "    \n",
    "    }\n",
    "\n",
    "for modelName, model in models.items():\n",
    "    print(f\"Training model: {modelName}\")\n",
    "    model.fit(X_train, y_train)"
   ]
  },
  {
   "cell_type": "markdown",
   "metadata": {
    "colab_type": "text",
    "id": "ALV_knyNG_AZ"
   },
   "source": [
    "**Display predicted prices by all trained models**"
   ]
  },
  {
   "cell_type": "code",
   "execution_count": null,
   "metadata": {
    "colab": {
     "base_uri": "https://localhost:8080/",
     "height": 444
    },
    "colab_type": "code",
    "id": "CLRJhtORIOQq",
    "outputId": "686f3745-d2d8-4730-b8f7-563cc80894f4"
   },
   "outputs": [
    {
     "data": {
      "text/html": [
       "<div>\n",
       "<style scoped>\n",
       "    .dataframe tbody tr th:only-of-type {\n",
       "        vertical-align: middle;\n",
       "    }\n",
       "\n",
       "    .dataframe tbody tr th {\n",
       "        vertical-align: top;\n",
       "    }\n",
       "\n",
       "    .dataframe thead th {\n",
       "        text-align: right;\n",
       "    }\n",
       "</style>\n",
       "<table border=\"1\" class=\"dataframe\">\n",
       "  <thead>\n",
       "    <tr style=\"text-align: right;\">\n",
       "      <th></th>\n",
       "      <th>RegresionLineal</th>\n",
       "      <th>Ridge</th>\n",
       "      <th>Lasso</th>\n",
       "      <th>Bayesian</th>\n",
       "      <th>SVR</th>\n",
       "      <th>KNeighbors</th>\n",
       "      <th>RadiusNeighbors</th>\n",
       "      <th>DecisionTree</th>\n",
       "      <th>ExtraTree</th>\n",
       "      <th>Dummy</th>\n",
       "      <th>Ada Boost</th>\n",
       "      <th>Bagging</th>\n",
       "      <th>ExtraTrees</th>\n",
       "      <th>GradientBoosting</th>\n",
       "      <th>RandomForest</th>\n",
       "      <th>HistGradientBoost</th>\n",
       "      <th>gt</th>\n",
       "    </tr>\n",
       "  </thead>\n",
       "  <tbody>\n",
       "    <tr>\n",
       "      <th>0</th>\n",
       "      <td>6350.561854</td>\n",
       "      <td>6352.386157</td>\n",
       "      <td>6346.601937</td>\n",
       "      <td>6350.690390</td>\n",
       "      <td>4219.189465</td>\n",
       "      <td>6525.4</td>\n",
       "      <td>5953.232877</td>\n",
       "      <td>5777.0</td>\n",
       "      <td>6488.0</td>\n",
       "      <td>3925.105487</td>\n",
       "      <td>6718.052820</td>\n",
       "      <td>6447.1</td>\n",
       "      <td>6314.44</td>\n",
       "      <td>6671.114690</td>\n",
       "      <td>6511.600</td>\n",
       "      <td>6630.721107</td>\n",
       "      <td>6310</td>\n",
       "    </tr>\n",
       "    <tr>\n",
       "      <th>1</th>\n",
       "      <td>355.545813</td>\n",
       "      <td>354.165330</td>\n",
       "      <td>355.506214</td>\n",
       "      <td>355.448910</td>\n",
       "      <td>1174.209822</td>\n",
       "      <td>681.4</td>\n",
       "      <td>858.191011</td>\n",
       "      <td>667.0</td>\n",
       "      <td>667.0</td>\n",
       "      <td>3925.105487</td>\n",
       "      <td>1135.563442</td>\n",
       "      <td>663.8</td>\n",
       "      <td>674.92</td>\n",
       "      <td>820.938713</td>\n",
       "      <td>680.170</td>\n",
       "      <td>778.640959</td>\n",
       "      <td>680</td>\n",
       "    </tr>\n",
       "    <tr>\n",
       "      <th>2</th>\n",
       "      <td>7556.419994</td>\n",
       "      <td>7556.343138</td>\n",
       "      <td>7553.923400</td>\n",
       "      <td>7556.414791</td>\n",
       "      <td>5111.511583</td>\n",
       "      <td>5507.4</td>\n",
       "      <td>5702.700000</td>\n",
       "      <td>5358.0</td>\n",
       "      <td>5834.0</td>\n",
       "      <td>3925.105487</td>\n",
       "      <td>6883.983077</td>\n",
       "      <td>5602.6</td>\n",
       "      <td>5945.89</td>\n",
       "      <td>5280.344451</td>\n",
       "      <td>5823.810</td>\n",
       "      <td>6036.205479</td>\n",
       "      <td>6544</td>\n",
       "    </tr>\n",
       "    <tr>\n",
       "      <th>3</th>\n",
       "      <td>1553.565912</td>\n",
       "      <td>1556.187901</td>\n",
       "      <td>1549.462386</td>\n",
       "      <td>1553.750604</td>\n",
       "      <td>1628.163525</td>\n",
       "      <td>981.8</td>\n",
       "      <td>1123.545455</td>\n",
       "      <td>953.0</td>\n",
       "      <td>990.0</td>\n",
       "      <td>3925.105487</td>\n",
       "      <td>1135.563442</td>\n",
       "      <td>932.7</td>\n",
       "      <td>999.72</td>\n",
       "      <td>819.569602</td>\n",
       "      <td>966.240</td>\n",
       "      <td>962.209351</td>\n",
       "      <td>926</td>\n",
       "    </tr>\n",
       "    <tr>\n",
       "      <th>4</th>\n",
       "      <td>-1220.868786</td>\n",
       "      <td>-1226.081049</td>\n",
       "      <td>-1222.870978</td>\n",
       "      <td>-1221.235706</td>\n",
       "      <td>934.218325</td>\n",
       "      <td>473.0</td>\n",
       "      <td>499.047619</td>\n",
       "      <td>436.0</td>\n",
       "      <td>432.0</td>\n",
       "      <td>3925.105487</td>\n",
       "      <td>1135.563442</td>\n",
       "      <td>434.0</td>\n",
       "      <td>453.16</td>\n",
       "      <td>348.179116</td>\n",
       "      <td>441.330</td>\n",
       "      <td>455.157714</td>\n",
       "      <td>432</td>\n",
       "    </tr>\n",
       "    <tr>\n",
       "      <th>...</th>\n",
       "      <td>...</td>\n",
       "      <td>...</td>\n",
       "      <td>...</td>\n",
       "      <td>...</td>\n",
       "      <td>...</td>\n",
       "      <td>...</td>\n",
       "      <td>...</td>\n",
       "      <td>...</td>\n",
       "      <td>...</td>\n",
       "      <td>...</td>\n",
       "      <td>...</td>\n",
       "      <td>...</td>\n",
       "      <td>...</td>\n",
       "      <td>...</td>\n",
       "      <td>...</td>\n",
       "      <td>...</td>\n",
       "      <td>...</td>\n",
       "    </tr>\n",
       "    <tr>\n",
       "      <th>8061</th>\n",
       "      <td>6123.707876</td>\n",
       "      <td>6123.430329</td>\n",
       "      <td>6119.825082</td>\n",
       "      <td>6123.688315</td>\n",
       "      <td>3853.971154</td>\n",
       "      <td>5138.8</td>\n",
       "      <td>4665.571429</td>\n",
       "      <td>4977.0</td>\n",
       "      <td>4977.0</td>\n",
       "      <td>3925.105487</td>\n",
       "      <td>6226.425321</td>\n",
       "      <td>5386.0</td>\n",
       "      <td>5153.07</td>\n",
       "      <td>5353.126543</td>\n",
       "      <td>5249.830</td>\n",
       "      <td>5260.530539</td>\n",
       "      <td>5443</td>\n",
       "    </tr>\n",
       "    <tr>\n",
       "      <th>8062</th>\n",
       "      <td>6114.034314</td>\n",
       "      <td>6115.562255</td>\n",
       "      <td>6116.764285</td>\n",
       "      <td>6114.141697</td>\n",
       "      <td>4349.191225</td>\n",
       "      <td>5162.6</td>\n",
       "      <td>5094.538462</td>\n",
       "      <td>4813.0</td>\n",
       "      <td>5226.0</td>\n",
       "      <td>3925.105487</td>\n",
       "      <td>6226.425321</td>\n",
       "      <td>4952.6</td>\n",
       "      <td>5086.69</td>\n",
       "      <td>5364.543517</td>\n",
       "      <td>5015.380</td>\n",
       "      <td>5245.611352</td>\n",
       "      <td>4901</td>\n",
       "    </tr>\n",
       "    <tr>\n",
       "      <th>8063</th>\n",
       "      <td>571.298704</td>\n",
       "      <td>567.523244</td>\n",
       "      <td>572.041458</td>\n",
       "      <td>571.032642</td>\n",
       "      <td>801.885414</td>\n",
       "      <td>744.6</td>\n",
       "      <td>759.553398</td>\n",
       "      <td>802.0</td>\n",
       "      <td>828.0</td>\n",
       "      <td>3925.105487</td>\n",
       "      <td>1135.563442</td>\n",
       "      <td>786.9</td>\n",
       "      <td>769.73</td>\n",
       "      <td>683.521977</td>\n",
       "      <td>783.220</td>\n",
       "      <td>736.373646</td>\n",
       "      <td>828</td>\n",
       "    </tr>\n",
       "    <tr>\n",
       "      <th>8064</th>\n",
       "      <td>9529.555134</td>\n",
       "      <td>9526.223465</td>\n",
       "      <td>9526.407062</td>\n",
       "      <td>9529.320692</td>\n",
       "      <td>5647.987819</td>\n",
       "      <td>7954.6</td>\n",
       "      <td>7827.675000</td>\n",
       "      <td>8637.0</td>\n",
       "      <td>7936.0</td>\n",
       "      <td>3925.105487</td>\n",
       "      <td>10994.643241</td>\n",
       "      <td>8101.3</td>\n",
       "      <td>8398.05</td>\n",
       "      <td>9318.726940</td>\n",
       "      <td>8201.245</td>\n",
       "      <td>8211.711023</td>\n",
       "      <td>10543</td>\n",
       "    </tr>\n",
       "    <tr>\n",
       "      <th>8065</th>\n",
       "      <td>5567.751974</td>\n",
       "      <td>5570.407237</td>\n",
       "      <td>5579.823375</td>\n",
       "      <td>5567.938529</td>\n",
       "      <td>4291.149186</td>\n",
       "      <td>4450.4</td>\n",
       "      <td>4397.928571</td>\n",
       "      <td>4314.0</td>\n",
       "      <td>4154.0</td>\n",
       "      <td>3925.105487</td>\n",
       "      <td>6543.336945</td>\n",
       "      <td>4523.7</td>\n",
       "      <td>4624.02</td>\n",
       "      <td>5221.782815</td>\n",
       "      <td>4600.430</td>\n",
       "      <td>4925.301161</td>\n",
       "      <td>4554</td>\n",
       "    </tr>\n",
       "  </tbody>\n",
       "</table>\n",
       "<p>8066 rows × 17 columns</p>\n",
       "</div>"
      ],
      "text/plain": [
       "      RegresionLineal        Ridge  ...  HistGradientBoost     gt\n",
       "0         6350.561854  6352.386157  ...        6630.721107   6310\n",
       "1          355.545813   354.165330  ...         778.640959    680\n",
       "2         7556.419994  7556.343138  ...        6036.205479   6544\n",
       "3         1553.565912  1556.187901  ...         962.209351    926\n",
       "4        -1220.868786 -1226.081049  ...         455.157714    432\n",
       "...               ...          ...  ...                ...    ...\n",
       "8061      6123.707876  6123.430329  ...        5260.530539   5443\n",
       "8062      6114.034314  6115.562255  ...        5245.611352   4901\n",
       "8063       571.298704   567.523244  ...         736.373646    828\n",
       "8064      9529.555134  9526.223465  ...        8211.711023  10543\n",
       "8065      5567.751974  5570.407237  ...        4925.301161   4554\n",
       "\n",
       "[8066 rows x 17 columns]"
      ]
     },
     "execution_count": 75,
     "metadata": {
      "tags": []
     },
     "output_type": "execute_result"
    }
   ],
   "source": [
    "d = {modelName:model.predict(X_test) for modelName, model in models.items()}\n",
    "df = pd.DataFrame(d)\n",
    "df[\"gt\"] = y_test.reset_index(drop=True)\n",
    "df"
   ]
  },
  {
   "cell_type": "markdown",
   "metadata": {
    "colab_type": "text",
    "id": "4JZfo32THVGM"
   },
   "source": [
    "**Display scores \"mse\", \"rmse\" and \"R²\" for predictions**"
   ]
  },
  {
   "cell_type": "code",
   "execution_count": null,
   "metadata": {
    "colab": {},
    "colab_type": "code",
    "id": "74ZaA1WfIOQx"
   },
   "outputs": [],
   "source": [
    "score_models ={\"Model\":[],\"mse\":[],\"rmse\":[],\"R²\":[]}\n",
    "for modelName, model in models.items():   \n",
    "    score_models[\"Model\"].append(modelName) \n",
    "    score_models[\"mse\"].append(mean_squared_error(df[\"gt\"], df[modelName]))\n",
    "    score_models[\"rmse\"].append(sqrt(mean_squared_error(df[\"gt\"], df[modelName])))\n",
    "    score_models[\"R²\"].append(r2_score(df[\"gt\"], df[modelName]))"
   ]
  },
  {
   "cell_type": "code",
   "execution_count": null,
   "metadata": {
    "colab": {
     "base_uri": "https://localhost:8080/",
     "height": 621
    },
    "colab_type": "code",
    "id": "PKncb-SwCD8d",
    "outputId": "b9e60055-229a-4c2e-ef68-58066b5e65c5"
   },
   "outputs": [
    {
     "data": {
      "text/html": [
       "<div>\n",
       "<style scoped>\n",
       "    .dataframe tbody tr th:only-of-type {\n",
       "        vertical-align: middle;\n",
       "    }\n",
       "\n",
       "    .dataframe tbody tr th {\n",
       "        vertical-align: top;\n",
       "    }\n",
       "\n",
       "    .dataframe thead th {\n",
       "        text-align: right;\n",
       "    }\n",
       "</style>\n",
       "<table border=\"1\" class=\"dataframe\">\n",
       "  <thead>\n",
       "    <tr style=\"text-align: right;\">\n",
       "      <th></th>\n",
       "      <th>Model</th>\n",
       "      <th>mse</th>\n",
       "      <th>rmse</th>\n",
       "      <th>R²</th>\n",
       "    </tr>\n",
       "  </thead>\n",
       "  <tbody>\n",
       "    <tr>\n",
       "      <th>0</th>\n",
       "      <td>RegresionLineal</td>\n",
       "      <td>1.460930e+06</td>\n",
       "      <td>1.208689e+03</td>\n",
       "      <td>9.046062e-01</td>\n",
       "    </tr>\n",
       "    <tr>\n",
       "      <th>1</th>\n",
       "      <td>Ridge</td>\n",
       "      <td>1.461673e+06</td>\n",
       "      <td>1.208997e+03</td>\n",
       "      <td>9.045577e-01</td>\n",
       "    </tr>\n",
       "    <tr>\n",
       "      <th>2</th>\n",
       "      <td>Lasso</td>\n",
       "      <td>1.461465e+06</td>\n",
       "      <td>1.208911e+03</td>\n",
       "      <td>9.045713e-01</td>\n",
       "    </tr>\n",
       "    <tr>\n",
       "      <th>3</th>\n",
       "      <td>Bayesian</td>\n",
       "      <td>1.460981e+06</td>\n",
       "      <td>1.208710e+03</td>\n",
       "      <td>9.046029e-01</td>\n",
       "    </tr>\n",
       "    <tr>\n",
       "      <th>4</th>\n",
       "      <td>SVR</td>\n",
       "      <td>7.424308e+06</td>\n",
       "      <td>2.724758e+03</td>\n",
       "      <td>5.152179e-01</td>\n",
       "    </tr>\n",
       "    <tr>\n",
       "      <th>5</th>\n",
       "      <td>KNeighbors</td>\n",
       "      <td>3.993028e+05</td>\n",
       "      <td>6.319041e+02</td>\n",
       "      <td>9.739269e-01</td>\n",
       "    </tr>\n",
       "    <tr>\n",
       "      <th>6</th>\n",
       "      <td>RadiusNeighbors</td>\n",
       "      <td>2.109363e+35</td>\n",
       "      <td>4.592780e+17</td>\n",
       "      <td>-1.377342e+28</td>\n",
       "    </tr>\n",
       "    <tr>\n",
       "      <th>7</th>\n",
       "      <td>DecisionTree</td>\n",
       "      <td>5.263000e+05</td>\n",
       "      <td>7.254653e+02</td>\n",
       "      <td>9.656344e-01</td>\n",
       "    </tr>\n",
       "    <tr>\n",
       "      <th>8</th>\n",
       "      <td>ExtraTree</td>\n",
       "      <td>5.619830e+05</td>\n",
       "      <td>7.496553e+02</td>\n",
       "      <td>9.633044e-01</td>\n",
       "    </tr>\n",
       "    <tr>\n",
       "      <th>9</th>\n",
       "      <td>Dummy</td>\n",
       "      <td>1.531500e+07</td>\n",
       "      <td>3.913439e+03</td>\n",
       "      <td>-1.782374e-05</td>\n",
       "    </tr>\n",
       "    <tr>\n",
       "      <th>10</th>\n",
       "      <td>Ada Boost</td>\n",
       "      <td>1.395025e+06</td>\n",
       "      <td>1.181112e+03</td>\n",
       "      <td>9.089096e-01</td>\n",
       "    </tr>\n",
       "    <tr>\n",
       "      <th>11</th>\n",
       "      <td>Bagging</td>\n",
       "      <td>3.388463e+05</td>\n",
       "      <td>5.821051e+02</td>\n",
       "      <td>9.778745e-01</td>\n",
       "    </tr>\n",
       "    <tr>\n",
       "      <th>12</th>\n",
       "      <td>ExtraTrees</td>\n",
       "      <td>3.042981e+05</td>\n",
       "      <td>5.516323e+02</td>\n",
       "      <td>9.801304e-01</td>\n",
       "    </tr>\n",
       "    <tr>\n",
       "      <th>13</th>\n",
       "      <td>GradientBoosting</td>\n",
       "      <td>3.811792e+05</td>\n",
       "      <td>6.173972e+02</td>\n",
       "      <td>9.751103e-01</td>\n",
       "    </tr>\n",
       "    <tr>\n",
       "      <th>14</th>\n",
       "      <td>RandomForest</td>\n",
       "      <td>3.101846e+05</td>\n",
       "      <td>5.569422e+02</td>\n",
       "      <td>9.797460e-01</td>\n",
       "    </tr>\n",
       "    <tr>\n",
       "      <th>15</th>\n",
       "      <td>HistGradientBoost</td>\n",
       "      <td>2.907034e+05</td>\n",
       "      <td>5.391692e+02</td>\n",
       "      <td>9.810181e-01</td>\n",
       "    </tr>\n",
       "  </tbody>\n",
       "</table>\n",
       "</div>"
      ],
      "text/plain": [
       "                Model           mse          rmse            R²\n",
       "0     RegresionLineal  1.460930e+06  1.208689e+03  9.046062e-01\n",
       "1               Ridge  1.461673e+06  1.208997e+03  9.045577e-01\n",
       "2               Lasso  1.461465e+06  1.208911e+03  9.045713e-01\n",
       "3            Bayesian  1.460981e+06  1.208710e+03  9.046029e-01\n",
       "4                 SVR  7.424308e+06  2.724758e+03  5.152179e-01\n",
       "5          KNeighbors  3.993028e+05  6.319041e+02  9.739269e-01\n",
       "6     RadiusNeighbors  2.109363e+35  4.592780e+17 -1.377342e+28\n",
       "7        DecisionTree  5.263000e+05  7.254653e+02  9.656344e-01\n",
       "8           ExtraTree  5.619830e+05  7.496553e+02  9.633044e-01\n",
       "9               Dummy  1.531500e+07  3.913439e+03 -1.782374e-05\n",
       "10          Ada Boost  1.395025e+06  1.181112e+03  9.089096e-01\n",
       "11            Bagging  3.388463e+05  5.821051e+02  9.778745e-01\n",
       "12         ExtraTrees  3.042981e+05  5.516323e+02  9.801304e-01\n",
       "13   GradientBoosting  3.811792e+05  6.173972e+02  9.751103e-01\n",
       "14       RandomForest  3.101846e+05  5.569422e+02  9.797460e-01\n",
       "15  HistGradientBoost  2.907034e+05  5.391692e+02  9.810181e-01"
      ]
     },
     "metadata": {
      "tags": []
     },
     "output_type": "display_data"
    },
    {
     "name": "stdout",
     "output_type": "stream",
     "text": [
      "The 3 best models based on rmse score are:\n"
     ]
    },
    {
     "data": {
      "text/plain": [
       "'HistGradientBoost'"
      ]
     },
     "metadata": {
      "tags": []
     },
     "output_type": "display_data"
    },
    {
     "data": {
      "text/plain": [
       "'ExtraTrees'"
      ]
     },
     "metadata": {
      "tags": []
     },
     "output_type": "display_data"
    },
    {
     "data": {
      "text/plain": [
       "'RandomForest'"
      ]
     },
     "metadata": {
      "tags": []
     },
     "output_type": "display_data"
    }
   ],
   "source": [
    "score_models_df = pd.DataFrame(score_models)\n",
    "display(score_models_df)\n",
    "min_rmse = list(score_models_df[\"rmse\"].sort_values()[:3].values)\n",
    "min_rmse\n",
    "print(\"The 3 best models based on rmse score are:\")\n",
    "for e in min_rmse:\n",
    "  display(score_models_df[\"Model\"][score_models_df[\"rmse\"] == e].values[0])"
   ]
  },
  {
   "cell_type": "markdown",
   "metadata": {
    "colab_type": "text",
    "id": "_7funKHSHhWs"
   },
   "source": [
    "The 3 best rmse scores have been achieved by Ensemble models. \n",
    "Optimize parameters for these 3 models: \"RandomForestRegressor\", \"HistGradientBoostingRegressor\" and \"ExtraTreesRegressor\""
   ]
  },
  {
   "cell_type": "markdown",
   "metadata": {},
   "source": [
    "### **Optimize parameters**"
   ]
  },
  {
   "cell_type": "code",
   "execution_count": 11,
   "metadata": {
    "colab": {
     "base_uri": "https://localhost:8080/",
     "height": 121
    },
    "colab_type": "code",
    "id": "FNFRLJKyIORh",
    "outputId": "99fa38d1-1edd-4527-d8db-f473aa0bc186"
   },
   "outputs": [
    {
     "name": "stdout",
     "output_type": "stream",
     "text": [
      "Fitting 5 folds for each of 32 candidates, totalling 160 fits\n"
     ]
    },
    {
     "name": "stderr",
     "output_type": "stream",
     "text": [
      "[Parallel(n_jobs=1)]: Using backend SequentialBackend with 1 concurrent workers.\n",
      "[Parallel(n_jobs=1)]: Done 160 out of 160 | elapsed: 80.0min finished\n",
      "/usr/local/lib/python3.6/dist-packages/sklearn/model_selection/_search.py:823: FutureWarning: The parameter 'iid' is deprecated in 0.22 and will be removed in 0.24.\n",
      "  \"removed in 0.24.\", FutureWarning\n"
     ]
    },
    {
     "data": {
      "text/plain": [
       "{'max_features': 5, 'n_estimators': 500}"
      ]
     },
     "execution_count": 11,
     "metadata": {
      "tags": []
     },
     "output_type": "execute_result"
    }
   ],
   "source": [
    "def gridSearch(algorithm, params):\n",
    "    tuning_gradient = GridSearchCV(estimator = algorithm,param_grid=params, scoring='neg_mean_squared_error',iid=False, cv=5, verbose=1)\n",
    "    tuning_gradient.fit(X_train,y_train)\n",
    "    return tuning_gradient.best_params_\n",
    "\n",
    "\n",
    "params = {'n_estimators':[100, 200, 500, 1000],\n",
    "          'max_features':[1,2,3,4,5,6,7,8]}\n",
    "\n",
    "gridSearch(RandomForestRegressor(min_samples_split=2, min_samples_leaf=1, bootstrap = True), params)"
   ]
  },
  {
   "cell_type": "code",
   "execution_count": 13,
   "metadata": {
    "colab": {
     "base_uri": "https://localhost:8080/",
     "height": 121
    },
    "colab_type": "code",
    "id": "PGaV8YdhT1Qq",
    "outputId": "0089af9d-8085-4770-8177-7f18c7a6ce62"
   },
   "outputs": [
    {
     "name": "stdout",
     "output_type": "stream",
     "text": [
      "Fitting 5 folds for each of 9 candidates, totalling 45 fits\n"
     ]
    },
    {
     "name": "stderr",
     "output_type": "stream",
     "text": [
      "[Parallel(n_jobs=1)]: Using backend SequentialBackend with 1 concurrent workers.\n",
      "[Parallel(n_jobs=1)]: Done  45 out of  45 | elapsed:  2.1min finished\n",
      "/usr/local/lib/python3.6/dist-packages/sklearn/model_selection/_search.py:823: FutureWarning: The parameter 'iid' is deprecated in 0.22 and will be removed in 0.24.\n",
      "  \"removed in 0.24.\", FutureWarning\n"
     ]
    },
    {
     "data": {
      "text/plain": [
       "{'learning_rate': 0.05, 'max_iter': 500}"
      ]
     },
     "execution_count": 13,
     "metadata": {
      "tags": []
     },
     "output_type": "execute_result"
    }
   ],
   "source": [
    "params = {'learning_rate':[0.15,0.1,0.05],\n",
    "          'max_iter':[100, 500, 1000]}\n",
    "\n",
    "gridSearch(HistGradientBoostingRegressor(loss='least_squares', n_iter_no_change=None, max_leaf_nodes=31, max_depth=None, min_samples_leaf=20), params)"
   ]
  },
  {
   "cell_type": "code",
   "execution_count": 14,
   "metadata": {
    "colab": {
     "base_uri": "https://localhost:8080/",
     "height": 121
    },
    "colab_type": "code",
    "id": "BHkdYz1Pm3sd",
    "outputId": "af7a971f-a4e3-4ab4-d2ee-b91dae7647b5"
   },
   "outputs": [
    {
     "name": "stdout",
     "output_type": "stream",
     "text": [
      "Fitting 5 folds for each of 12 candidates, totalling 60 fits\n"
     ]
    },
    {
     "name": "stderr",
     "output_type": "stream",
     "text": [
      "[Parallel(n_jobs=1)]: Using backend SequentialBackend with 1 concurrent workers.\n",
      "[Parallel(n_jobs=1)]: Done  60 out of  60 | elapsed:  2.7min finished\n",
      "/usr/local/lib/python3.6/dist-packages/sklearn/model_selection/_search.py:823: FutureWarning: The parameter 'iid' is deprecated in 0.22 and will be removed in 0.24.\n",
      "  \"removed in 0.24.\", FutureWarning\n"
     ]
    },
    {
     "data": {
      "text/plain": [
       "{'learning_rate': 0.02, 'max_iter': 800}"
      ]
     },
     "execution_count": 14,
     "metadata": {
      "tags": []
     },
     "output_type": "execute_result"
    }
   ],
   "source": [
    "params = {'learning_rate':[0.02,0.05, 0.075, 0.1],\n",
    "          'max_iter':[200, 500, 800]}\n",
    "\n",
    "gridSearch(HistGradientBoostingRegressor(loss='least_squares', n_iter_no_change=None, max_leaf_nodes=31, max_depth=None, min_samples_leaf=20), params)"
   ]
  },
  {
   "cell_type": "code",
   "execution_count": 15,
   "metadata": {
    "colab": {
     "base_uri": "https://localhost:8080/",
     "height": 121
    },
    "colab_type": "code",
    "id": "Iy0fKgf_ocZU",
    "outputId": "d2d65f70-3fe6-4ed1-cdd3-c4cadc03e8b7"
   },
   "outputs": [
    {
     "name": "stdout",
     "output_type": "stream",
     "text": [
      "Fitting 5 folds for each of 16 candidates, totalling 80 fits\n"
     ]
    },
    {
     "name": "stderr",
     "output_type": "stream",
     "text": [
      "[Parallel(n_jobs=1)]: Using backend SequentialBackend with 1 concurrent workers.\n",
      "[Parallel(n_jobs=1)]: Done  80 out of  80 | elapsed:  5.3min finished\n",
      "/usr/local/lib/python3.6/dist-packages/sklearn/model_selection/_search.py:823: FutureWarning: The parameter 'iid' is deprecated in 0.22 and will be removed in 0.24.\n",
      "  \"removed in 0.24.\", FutureWarning\n"
     ]
    },
    {
     "data": {
      "text/plain": [
       "{'learning_rate': 0.02, 'max_iter': 800}"
      ]
     },
     "execution_count": 15,
     "metadata": {
      "tags": []
     },
     "output_type": "execute_result"
    }
   ],
   "source": [
    "params = {'learning_rate':[0.005, 0.01, 0.02,0.05],\n",
    "          'max_iter':[400, 500, 800, 1000]}\n",
    "\n",
    "gridSearch(HistGradientBoostingRegressor(loss='least_squares', n_iter_no_change=None, max_leaf_nodes=31, max_depth=None, min_samples_leaf=20), params)"
   ]
  },
  {
   "cell_type": "code",
   "execution_count": 19,
   "metadata": {
    "colab": {
     "base_uri": "https://localhost:8080/",
     "height": 121
    },
    "colab_type": "code",
    "id": "NmT_y5Xbht6v",
    "outputId": "71ac3b55-5fe1-489b-e6d6-16697d2b401f"
   },
   "outputs": [
    {
     "name": "stdout",
     "output_type": "stream",
     "text": [
      "Fitting 5 folds for each of 12 candidates, totalling 60 fits\n"
     ]
    },
    {
     "name": "stderr",
     "output_type": "stream",
     "text": [
      "[Parallel(n_jobs=1)]: Using backend SequentialBackend with 1 concurrent workers.\n",
      "[Parallel(n_jobs=1)]: Done  60 out of  60 | elapsed: 17.1min finished\n",
      "/usr/local/lib/python3.6/dist-packages/sklearn/model_selection/_search.py:823: FutureWarning: The parameter 'iid' is deprecated in 0.22 and will be removed in 0.24.\n",
      "  \"removed in 0.24.\", FutureWarning\n"
     ]
    },
    {
     "data": {
      "text/plain": [
       "{'max_features': 7, 'n_estimators': 1000}"
      ]
     },
     "execution_count": 19,
     "metadata": {
      "tags": []
     },
     "output_type": "execute_result"
    }
   ],
   "source": [
    "params = {'n_estimators':[100, 500, 1000],\n",
    "          'max_features':[4,5,6,7]}\n",
    "\n",
    "gridSearch(ExtraTreesRegressor(min_samples_split=2, min_samples_leaf=1, bootstrap=True), params)"
   ]
  },
  {
   "cell_type": "code",
   "execution_count": 20,
   "metadata": {
    "colab": {
     "base_uri": "https://localhost:8080/",
     "height": 69
    },
    "colab_type": "code",
    "id": "JxQOGL2vTzjM",
    "outputId": "ec8f4314-59ed-453a-c96b-533b7a16eec7"
   },
   "outputs": [
    {
     "name": "stdout",
     "output_type": "stream",
     "text": [
      "Training model: ExtraTrees\n",
      "Training model: RandomForest\n",
      "Training model: HistGradientBoost\n"
     ]
    }
   ],
   "source": [
    "models = {\n",
    "    \"ExtraTrees\": ExtraTreesRegressor(min_samples_split=2, min_samples_leaf=1, bootstrap=True, max_features = 7, n_estimators=1000),\n",
    "    \"RandomForest\" : RandomForestRegressor(min_samples_split=2, min_samples_leaf=1, bootstrap = True, max_features = 5, n_estimators = 500),\n",
    "    \"HistGradientBoost\": HistGradientBoostingRegressor(loss='least_squares', n_iter_no_change=None, max_leaf_nodes=31, max_depth=None, min_samples_leaf=20,learning_rate=0.02, max_iter=800),\n",
    "    }\n",
    "\n",
    "for modelName, model in models.items():\n",
    "    print(f\"Training model: {modelName}\")\n",
    "    model.fit(X_train, y_train)"
   ]
  },
  {
   "cell_type": "code",
   "execution_count": 8,
   "metadata": {
    "colab": {
     "base_uri": "https://localhost:8080/",
     "height": 143
    },
    "colab_type": "code",
    "id": "pGh7AHgIU66X",
    "outputId": "3085e691-76c0-4155-ed9f-7fc03a24cd0b"
   },
   "outputs": [
    {
     "data": {
      "text/html": [
       "<div>\n",
       "<style scoped>\n",
       "    .dataframe tbody tr th:only-of-type {\n",
       "        vertical-align: middle;\n",
       "    }\n",
       "\n",
       "    .dataframe tbody tr th {\n",
       "        vertical-align: top;\n",
       "    }\n",
       "\n",
       "    .dataframe thead th {\n",
       "        text-align: right;\n",
       "    }\n",
       "</style>\n",
       "<table border=\"1\" class=\"dataframe\">\n",
       "  <thead>\n",
       "    <tr style=\"text-align: right;\">\n",
       "      <th></th>\n",
       "      <th>Model</th>\n",
       "      <th>mse</th>\n",
       "      <th>rmse</th>\n",
       "      <th>R²</th>\n",
       "    </tr>\n",
       "  </thead>\n",
       "  <tbody>\n",
       "    <tr>\n",
       "      <th>0</th>\n",
       "      <td>ExtraTrees</td>\n",
       "      <td>302704.712360</td>\n",
       "      <td>550.186071</td>\n",
       "      <td>0.980860</td>\n",
       "    </tr>\n",
       "    <tr>\n",
       "      <th>1</th>\n",
       "      <td>RandomForest</td>\n",
       "      <td>310191.418715</td>\n",
       "      <td>556.948309</td>\n",
       "      <td>0.980386</td>\n",
       "    </tr>\n",
       "    <tr>\n",
       "      <th>2</th>\n",
       "      <td>HistGradientBoost</td>\n",
       "      <td>297980.407897</td>\n",
       "      <td>545.875817</td>\n",
       "      <td>0.981158</td>\n",
       "    </tr>\n",
       "  </tbody>\n",
       "</table>\n",
       "</div>"
      ],
      "text/plain": [
       "               Model            mse        rmse        R²\n",
       "0         ExtraTrees  302704.712360  550.186071  0.980860\n",
       "1       RandomForest  310191.418715  556.948309  0.980386\n",
       "2  HistGradientBoost  297980.407897  545.875817  0.981158"
      ]
     },
     "execution_count": 8,
     "metadata": {
      "tags": []
     },
     "output_type": "execute_result"
    }
   ],
   "source": [
    "d = {modelName:model.predict(X_test) for modelName, model in models.items()}\n",
    "df = pd.DataFrame(d)\n",
    "df[\"gt\"] = y_test.reset_index(drop=True)\n",
    "score_models ={\"Model\":[],\"mse\":[],\"rmse\":[],\"R²\":[]}\n",
    "for modelName, model in models.items():   \n",
    "    score_models[\"Model\"].append(modelName) \n",
    "    score_models[\"mse\"].append(mean_squared_error(df[\"gt\"], df[modelName]))\n",
    "    score_models[\"rmse\"].append(sqrt(mean_squared_error(df[\"gt\"], df[modelName])))\n",
    "    score_models[\"R²\"].append(r2_score(df[\"gt\"], df[modelName]))\n",
    "score_models_df = pd.DataFrame(score_models)\n",
    "score_models_df"
   ]
  },
  {
   "cell_type": "markdown",
   "metadata": {
    "colab_type": "text",
    "id": "laDsBXLRazQo"
   },
   "source": [
    "**After submitting these 3 models, the best score has been achieved with Extra Tress Regressor model. Continue improving this model**"
   ]
  },
  {
   "cell_type": "code",
   "execution_count": 23,
   "metadata": {
    "colab": {
     "base_uri": "https://localhost:8080/",
     "height": 434
    },
    "colab_type": "code",
    "id": "Ih8tlTQHRqoE",
    "outputId": "8957a256-aa31-4549-b9b9-f7395c10e47f"
   },
   "outputs": [
    {
     "name": "stdout",
     "output_type": "stream",
     "text": [
      "Fitting 5 folds for each of 12 candidates, totalling 60 fits\n"
     ]
    },
    {
     "name": "stderr",
     "output_type": "stream",
     "text": [
      "[Parallel(n_jobs=1)]: Using backend SequentialBackend with 1 concurrent workers.\n",
      "[Parallel(n_jobs=1)]: Done  60 out of  60 | elapsed: 37.3min finished\n",
      "/usr/local/lib/python3.6/dist-packages/sklearn/model_selection/_search.py:823: FutureWarning: The parameter 'iid' is deprecated in 0.22 and will be removed in 0.24.\n",
      "  \"removed in 0.24.\", FutureWarning\n"
     ]
    },
    {
     "data": {
      "text/plain": [
       "GridSearchCV(cv=5, error_score=nan,\n",
       "             estimator=ExtraTreesRegressor(bootstrap=True, ccp_alpha=0.0,\n",
       "                                           criterion='mse', max_depth=None,\n",
       "                                           max_features='auto',\n",
       "                                           max_leaf_nodes=None,\n",
       "                                           max_samples=None,\n",
       "                                           min_impurity_decrease=0.0,\n",
       "                                           min_impurity_split=None,\n",
       "                                           min_samples_leaf=1,\n",
       "                                           min_samples_split=2,\n",
       "                                           min_weight_fraction_leaf=0.0,\n",
       "                                           n_estimators=100, n_jobs=None,\n",
       "                                           oob_score=False, random_state=None,\n",
       "                                           verbose=0, warm_start=False),\n",
       "             iid=False, n_jobs=None,\n",
       "             param_grid={'max_features': [5, 6, 7, 8],\n",
       "                         'n_estimators': [700, 1000, 1500]},\n",
       "             pre_dispatch='2*n_jobs', refit=True, return_train_score=False,\n",
       "             scoring='neg_mean_squared_error', verbose=1)"
      ]
     },
     "execution_count": 23,
     "metadata": {
      "tags": []
     },
     "output_type": "execute_result"
    }
   ],
   "source": [
    "params = {'n_estimators':[700, 1000, 1500],\n",
    "          'max_features':[5,6,7,8]}\n",
    "\n",
    "gridSearch(ExtraTreesRegressor(min_samples_split=2, min_samples_leaf=1, bootstrap=True), params)"
   ]
  },
  {
   "cell_type": "code",
   "execution_count": 24,
   "metadata": {
    "colab": {
     "base_uri": "https://localhost:8080/",
     "height": 34
    },
    "colab_type": "code",
    "id": "VSql6CIonv6o",
    "outputId": "c3178623-a147-4c66-827f-1ef826db39ca"
   },
   "outputs": [
    {
     "data": {
      "text/plain": [
       "{'max_features': 6, 'n_estimators': 1000}"
      ]
     },
     "execution_count": 24,
     "metadata": {
      "tags": []
     },
     "output_type": "execute_result"
    }
   ],
   "source": [
    "tuning_Trees.best_params_"
   ]
  },
  {
   "cell_type": "code",
   "execution_count": 25,
   "metadata": {
    "colab": {
     "base_uri": "https://localhost:8080/",
     "height": 121
    },
    "colab_type": "code",
    "id": "QDgg5chJn_r-",
    "outputId": "1269a48c-7b3d-4073-d3c6-80343b315761"
   },
   "outputs": [
    {
     "name": "stdout",
     "output_type": "stream",
     "text": [
      "Fitting 5 folds for each of 8 candidates, totalling 40 fits\n"
     ]
    },
    {
     "name": "stderr",
     "output_type": "stream",
     "text": [
      "[Parallel(n_jobs=1)]: Using backend SequentialBackend with 1 concurrent workers.\n",
      "[Parallel(n_jobs=1)]: Done  40 out of  40 | elapsed: 23.7min finished\n",
      "/usr/local/lib/python3.6/dist-packages/sklearn/model_selection/_search.py:823: FutureWarning: The parameter 'iid' is deprecated in 0.22 and will be removed in 0.24.\n",
      "  \"removed in 0.24.\", FutureWarning\n"
     ]
    },
    {
     "data": {
      "text/plain": [
       "{'max_features': 7, 'random_state': None}"
      ]
     },
     "execution_count": 25,
     "metadata": {
      "tags": []
     },
     "output_type": "execute_result"
    }
   ],
   "source": [
    "params = {'max_features':[6,7],\n",
    "          'random_state':[None,1,5,10]}\n",
    "          \n",
    "gridSearch(ExtraTreesRegressor(min_samples_split=2, min_samples_leaf=1, bootstrap=True, n_estimators = 1000), params)"
   ]
  },
  {
   "cell_type": "markdown",
   "metadata": {
    "colab_type": "text",
    "id": "b8rOBWMw3aJr"
   },
   "source": [
    "This last search for optimizing parameters has not resulted in any improvement."
   ]
  },
  {
   "cell_type": "markdown",
   "metadata": {
    "colab_type": "text",
    "id": "f0fRCGd9IORl"
   },
   "source": [
    "### **Make predictions on test dataset and save data for submission**"
   ]
  },
  {
   "cell_type": "code",
   "execution_count": null,
   "metadata": {
    "colab": {},
    "colab_type": "code",
    "id": "Fy8YCLECIORm"
   },
   "outputs": [],
   "source": [
    "test = pd.read_csv(join(PROJECT_PATH,'test.csv'))\n",
    "test.drop(columns=\"Unnamed: 0\",inplace=True)"
   ]
  },
  {
   "cell_type": "code",
   "execution_count": 18,
   "metadata": {
    "colab": {
     "base_uri": "https://localhost:8080/",
     "height": 139
    },
    "colab_type": "code",
    "id": "u6TBzY09IORr",
    "outputId": "db461a13-60c8-4d3b-8fdd-0410a7525d85"
   },
   "outputs": [
    {
     "data": {
      "text/plain": [
       "ExtraTreesRegressor(bootstrap=True, ccp_alpha=0.0, criterion='mse',\n",
       "                    max_depth=None, max_features=7, max_leaf_nodes=None,\n",
       "                    max_samples=None, min_impurity_decrease=0.0,\n",
       "                    min_impurity_split=None, min_samples_leaf=1,\n",
       "                    min_samples_split=2, min_weight_fraction_leaf=0.0,\n",
       "                    n_estimators=1000, n_jobs=None, oob_score=False,\n",
       "                    random_state=None, verbose=0, warm_start=False)"
      ]
     },
     "execution_count": 18,
     "metadata": {
      "tags": []
     },
     "output_type": "execute_result"
    }
   ],
   "source": [
    "model = ExtraTreesRegressor(min_samples_split=2, min_samples_leaf=1, bootstrap=True, max_features = 7, n_estimators=1000)\n",
    "model.fit(X, y)"
   ]
  },
  {
   "cell_type": "code",
   "execution_count": null,
   "metadata": {
    "colab": {},
    "colab_type": "code",
    "id": "KmB9yXJ-IORv"
   },
   "outputs": [],
   "source": [
    "y_pred = model.predict(test)"
   ]
  },
  {
   "cell_type": "code",
   "execution_count": null,
   "metadata": {
    "colab": {},
    "colab_type": "code",
    "id": "PtGv-DcgIORy"
   },
   "outputs": [],
   "source": [
    "y_pred = pd.DataFrame(y_pred, columns=[\"price\"])\n",
    "y_pred = y_pred.reset_index()\n",
    "y_pred = y_pred.rename(columns={'index':'id'})"
   ]
  },
  {
   "cell_type": "code",
   "execution_count": 21,
   "metadata": {
    "colab": {
     "base_uri": "https://localhost:8080/",
     "height": 424
    },
    "colab_type": "code",
    "id": "DZLIQcSjIOR_",
    "outputId": "eb576861-8a67-4dd6-c88b-d35d821de293"
   },
   "outputs": [
    {
     "data": {
      "text/html": [
       "<div>\n",
       "<style scoped>\n",
       "    .dataframe tbody tr th:only-of-type {\n",
       "        vertical-align: middle;\n",
       "    }\n",
       "\n",
       "    .dataframe tbody tr th {\n",
       "        vertical-align: top;\n",
       "    }\n",
       "\n",
       "    .dataframe thead th {\n",
       "        text-align: right;\n",
       "    }\n",
       "</style>\n",
       "<table border=\"1\" class=\"dataframe\">\n",
       "  <thead>\n",
       "    <tr style=\"text-align: right;\">\n",
       "      <th></th>\n",
       "      <th>id</th>\n",
       "      <th>price</th>\n",
       "    </tr>\n",
       "  </thead>\n",
       "  <tbody>\n",
       "    <tr>\n",
       "      <th>0</th>\n",
       "      <td>0</td>\n",
       "      <td>426.7540</td>\n",
       "    </tr>\n",
       "    <tr>\n",
       "      <th>1</th>\n",
       "      <td>1</td>\n",
       "      <td>1969.7940</td>\n",
       "    </tr>\n",
       "    <tr>\n",
       "      <th>2</th>\n",
       "      <td>2</td>\n",
       "      <td>9473.2070</td>\n",
       "    </tr>\n",
       "    <tr>\n",
       "      <th>3</th>\n",
       "      <td>3</td>\n",
       "      <td>497.9594</td>\n",
       "    </tr>\n",
       "    <tr>\n",
       "      <th>4</th>\n",
       "      <td>4</td>\n",
       "      <td>9258.9910</td>\n",
       "    </tr>\n",
       "    <tr>\n",
       "      <th>...</th>\n",
       "      <td>...</td>\n",
       "      <td>...</td>\n",
       "    </tr>\n",
       "    <tr>\n",
       "      <th>13444</th>\n",
       "      <td>13444</td>\n",
       "      <td>4749.1500</td>\n",
       "    </tr>\n",
       "    <tr>\n",
       "      <th>13445</th>\n",
       "      <td>13445</td>\n",
       "      <td>445.2950</td>\n",
       "    </tr>\n",
       "    <tr>\n",
       "      <th>13446</th>\n",
       "      <td>13446</td>\n",
       "      <td>14977.7610</td>\n",
       "    </tr>\n",
       "    <tr>\n",
       "      <th>13447</th>\n",
       "      <td>13447</td>\n",
       "      <td>10428.3530</td>\n",
       "    </tr>\n",
       "    <tr>\n",
       "      <th>13448</th>\n",
       "      <td>13448</td>\n",
       "      <td>714.8090</td>\n",
       "    </tr>\n",
       "  </tbody>\n",
       "</table>\n",
       "<p>13449 rows × 2 columns</p>\n",
       "</div>"
      ],
      "text/plain": [
       "          id       price\n",
       "0          0    426.7540\n",
       "1          1   1969.7940\n",
       "2          2   9473.2070\n",
       "3          3    497.9594\n",
       "4          4   9258.9910\n",
       "...      ...         ...\n",
       "13444  13444   4749.1500\n",
       "13445  13445    445.2950\n",
       "13446  13446  14977.7610\n",
       "13447  13447  10428.3530\n",
       "13448  13448    714.8090\n",
       "\n",
       "[13449 rows x 2 columns]"
      ]
     },
     "execution_count": 21,
     "metadata": {
      "tags": []
     },
     "output_type": "execute_result"
    }
   ],
   "source": [
    "y_pred"
   ]
  },
  {
   "cell_type": "code",
   "execution_count": null,
   "metadata": {
    "colab": {},
    "colab_type": "code",
    "id": "AsvbONpJIOSC"
   },
   "outputs": [],
   "source": [
    "y_pred.to_csv(join(PROJECT_PATH,'submission.csv'), index=False)"
   ]
  }
 ],
 "metadata": {
  "colab": {
   "name": "model_training.ipynb",
   "provenance": []
  },
  "kernelspec": {
   "display_name": "Python 3",
   "language": "python",
   "name": "python3"
  },
  "language_info": {
   "codemirror_mode": {
    "name": "ipython",
    "version": 3
   },
   "file_extension": ".py",
   "mimetype": "text/x-python",
   "name": "python",
   "nbconvert_exporter": "python",
   "pygments_lexer": "ipython3",
   "version": "3.7.5"
  }
 },
 "nbformat": 4,
 "nbformat_minor": 4
}
