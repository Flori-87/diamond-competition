{
 "cells": [
  {
   "cell_type": "markdown",
   "metadata": {},
   "source": [
    "# **Dataset Cleaning**"
   ]
  },
  {
   "cell_type": "code",
   "execution_count": 68,
   "metadata": {},
   "outputs": [],
   "source": [
    "import pandas as pd\n",
    "import numpy as np\n",
    "import matplotlib.pyplot as plt\n",
    "import seaborn as sns\n",
    "from sklearn.preprocessing import StandardScaler, Normalizer\n",
    "from sklearn.pipeline import make_pipeline\n",
    "import math"
   ]
  },
  {
   "cell_type": "code",
   "execution_count": 69,
   "metadata": {},
   "outputs": [],
   "source": [
    "df = pd.read_csv(\"../input/diamonds_train.csv\")\n",
    "df.drop(columns=\"Unnamed: 0\",inplace=True)"
   ]
  },
  {
   "cell_type": "markdown",
   "metadata": {},
   "source": [
    "## **1. Know the characteristics affecting the quality and price of a diamond**"
   ]
  },
  {
   "cell_type": "markdown",
   "metadata": {},
   "source": [
    "### **Take a first look at the dataset** \n",
    "\n",
    "- Get an idea about the number of columns and rows and data in them\n",
    "- Know the meaning of each column"
   ]
  },
  {
   "cell_type": "code",
   "execution_count": 70,
   "metadata": {},
   "outputs": [
    {
     "data": {
      "text/html": [
       "<div>\n",
       "<style scoped>\n",
       "    .dataframe tbody tr th:only-of-type {\n",
       "        vertical-align: middle;\n",
       "    }\n",
       "\n",
       "    .dataframe tbody tr th {\n",
       "        vertical-align: top;\n",
       "    }\n",
       "\n",
       "    .dataframe thead th {\n",
       "        text-align: right;\n",
       "    }\n",
       "</style>\n",
       "<table border=\"1\" class=\"dataframe\">\n",
       "  <thead>\n",
       "    <tr style=\"text-align: right;\">\n",
       "      <th></th>\n",
       "      <th>carat</th>\n",
       "      <th>cut</th>\n",
       "      <th>color</th>\n",
       "      <th>clarity</th>\n",
       "      <th>depth</th>\n",
       "      <th>table</th>\n",
       "      <th>x</th>\n",
       "      <th>y</th>\n",
       "      <th>z</th>\n",
       "      <th>price</th>\n",
       "    </tr>\n",
       "  </thead>\n",
       "  <tbody>\n",
       "    <tr>\n",
       "      <th>0</th>\n",
       "      <td>1.21</td>\n",
       "      <td>Ideal</td>\n",
       "      <td>H</td>\n",
       "      <td>VS2</td>\n",
       "      <td>63.0</td>\n",
       "      <td>57.0</td>\n",
       "      <td>6.73</td>\n",
       "      <td>6.70</td>\n",
       "      <td>4.23</td>\n",
       "      <td>6134</td>\n",
       "    </tr>\n",
       "    <tr>\n",
       "      <th>1</th>\n",
       "      <td>0.28</td>\n",
       "      <td>Very Good</td>\n",
       "      <td>D</td>\n",
       "      <td>VVS2</td>\n",
       "      <td>64.0</td>\n",
       "      <td>56.0</td>\n",
       "      <td>4.14</td>\n",
       "      <td>4.17</td>\n",
       "      <td>2.66</td>\n",
       "      <td>532</td>\n",
       "    </tr>\n",
       "    <tr>\n",
       "      <th>2</th>\n",
       "      <td>0.42</td>\n",
       "      <td>Premium</td>\n",
       "      <td>F</td>\n",
       "      <td>VS1</td>\n",
       "      <td>61.2</td>\n",
       "      <td>58.0</td>\n",
       "      <td>4.86</td>\n",
       "      <td>4.82</td>\n",
       "      <td>2.96</td>\n",
       "      <td>1103</td>\n",
       "    </tr>\n",
       "    <tr>\n",
       "      <th>3</th>\n",
       "      <td>0.26</td>\n",
       "      <td>Ideal</td>\n",
       "      <td>H</td>\n",
       "      <td>IF</td>\n",
       "      <td>61.1</td>\n",
       "      <td>57.0</td>\n",
       "      <td>4.16</td>\n",
       "      <td>4.12</td>\n",
       "      <td>2.53</td>\n",
       "      <td>600</td>\n",
       "    </tr>\n",
       "    <tr>\n",
       "      <th>4</th>\n",
       "      <td>1.10</td>\n",
       "      <td>Good</td>\n",
       "      <td>G</td>\n",
       "      <td>SI1</td>\n",
       "      <td>63.4</td>\n",
       "      <td>57.0</td>\n",
       "      <td>6.52</td>\n",
       "      <td>6.55</td>\n",
       "      <td>4.14</td>\n",
       "      <td>4997</td>\n",
       "    </tr>\n",
       "  </tbody>\n",
       "</table>\n",
       "</div>"
      ],
      "text/plain": [
       "   carat        cut color clarity  depth  table     x     y     z  price\n",
       "0   1.21      Ideal     H     VS2   63.0   57.0  6.73  6.70  4.23   6134\n",
       "1   0.28  Very Good     D    VVS2   64.0   56.0  4.14  4.17  2.66    532\n",
       "2   0.42    Premium     F     VS1   61.2   58.0  4.86  4.82  2.96   1103\n",
       "3   0.26      Ideal     H      IF   61.1   57.0  4.16  4.12  2.53    600\n",
       "4   1.10       Good     G     SI1   63.4   57.0  6.52  6.55  4.14   4997"
      ]
     },
     "execution_count": 70,
     "metadata": {},
     "output_type": "execute_result"
    }
   ],
   "source": [
    "df.head()"
   ]
  },
  {
   "cell_type": "code",
   "execution_count": 71,
   "metadata": {},
   "outputs": [
    {
     "data": {
      "text/plain": [
       "(40345, 10)"
      ]
     },
     "execution_count": 71,
     "metadata": {},
     "output_type": "execute_result"
    }
   ],
   "source": [
    "df.shape"
   ]
  },
  {
   "cell_type": "markdown",
   "metadata": {},
   "source": [
    "**At first glance, dataset contains 40345 records and 9 features (predictive values) and a column with the feature to predict, the price of diamonds**"
   ]
  },
  {
   "cell_type": "markdown",
   "metadata": {},
   "source": [
    "##### Meaning of the features (or columns):\n",
    "- price: price in USD\n",
    "- carat: weight of the diamond\n",
    "- cut: quality of the cut (Fair, Good, Very Good, Premium, Ideal)\n",
    "- color: diamond colour, from J (worst) to D (best)\n",
    "- clarity: a measurement of how clear the diamond is (I1 (worst), SI2, SI1, VS2, VS1, VVS2, VVS1, IF (best))\n",
    "- x: length in mm\n",
    "- y: width in mm\n",
    "- z: depth in mm\n",
    "- depth: total depth percentage = z / mean(x, y) = 2 * z / (x + y) (43--79)\n",
    "- table: width of top of diamond relative to widest point (43--95)"
   ]
  },
  {
   "cell_type": "markdown",
   "metadata": {},
   "source": [
    "### **Rename some columns to make them easier to read**"
   ]
  },
  {
   "cell_type": "code",
   "execution_count": 72,
   "metadata": {},
   "outputs": [
    {
     "data": {
      "text/html": [
       "<div>\n",
       "<style scoped>\n",
       "    .dataframe tbody tr th:only-of-type {\n",
       "        vertical-align: middle;\n",
       "    }\n",
       "\n",
       "    .dataframe tbody tr th {\n",
       "        vertical-align: top;\n",
       "    }\n",
       "\n",
       "    .dataframe thead th {\n",
       "        text-align: right;\n",
       "    }\n",
       "</style>\n",
       "<table border=\"1\" class=\"dataframe\">\n",
       "  <thead>\n",
       "    <tr style=\"text-align: right;\">\n",
       "      <th></th>\n",
       "      <th>carat</th>\n",
       "      <th>cut</th>\n",
       "      <th>color</th>\n",
       "      <th>clarity</th>\n",
       "      <th>depth(%)</th>\n",
       "      <th>table(%)</th>\n",
       "      <th>length</th>\n",
       "      <th>width</th>\n",
       "      <th>depth</th>\n",
       "      <th>price</th>\n",
       "    </tr>\n",
       "  </thead>\n",
       "  <tbody>\n",
       "    <tr>\n",
       "      <th>0</th>\n",
       "      <td>1.21</td>\n",
       "      <td>Ideal</td>\n",
       "      <td>H</td>\n",
       "      <td>VS2</td>\n",
       "      <td>63.0</td>\n",
       "      <td>57.0</td>\n",
       "      <td>6.73</td>\n",
       "      <td>6.70</td>\n",
       "      <td>4.23</td>\n",
       "      <td>6134</td>\n",
       "    </tr>\n",
       "    <tr>\n",
       "      <th>1</th>\n",
       "      <td>0.28</td>\n",
       "      <td>Very Good</td>\n",
       "      <td>D</td>\n",
       "      <td>VVS2</td>\n",
       "      <td>64.0</td>\n",
       "      <td>56.0</td>\n",
       "      <td>4.14</td>\n",
       "      <td>4.17</td>\n",
       "      <td>2.66</td>\n",
       "      <td>532</td>\n",
       "    </tr>\n",
       "    <tr>\n",
       "      <th>2</th>\n",
       "      <td>0.42</td>\n",
       "      <td>Premium</td>\n",
       "      <td>F</td>\n",
       "      <td>VS1</td>\n",
       "      <td>61.2</td>\n",
       "      <td>58.0</td>\n",
       "      <td>4.86</td>\n",
       "      <td>4.82</td>\n",
       "      <td>2.96</td>\n",
       "      <td>1103</td>\n",
       "    </tr>\n",
       "    <tr>\n",
       "      <th>3</th>\n",
       "      <td>0.26</td>\n",
       "      <td>Ideal</td>\n",
       "      <td>H</td>\n",
       "      <td>IF</td>\n",
       "      <td>61.1</td>\n",
       "      <td>57.0</td>\n",
       "      <td>4.16</td>\n",
       "      <td>4.12</td>\n",
       "      <td>2.53</td>\n",
       "      <td>600</td>\n",
       "    </tr>\n",
       "    <tr>\n",
       "      <th>4</th>\n",
       "      <td>1.10</td>\n",
       "      <td>Good</td>\n",
       "      <td>G</td>\n",
       "      <td>SI1</td>\n",
       "      <td>63.4</td>\n",
       "      <td>57.0</td>\n",
       "      <td>6.52</td>\n",
       "      <td>6.55</td>\n",
       "      <td>4.14</td>\n",
       "      <td>4997</td>\n",
       "    </tr>\n",
       "  </tbody>\n",
       "</table>\n",
       "</div>"
      ],
      "text/plain": [
       "   carat        cut color clarity  depth(%)  table(%)  length  width  depth  \\\n",
       "0   1.21      Ideal     H     VS2      63.0      57.0    6.73   6.70   4.23   \n",
       "1   0.28  Very Good     D    VVS2      64.0      56.0    4.14   4.17   2.66   \n",
       "2   0.42    Premium     F     VS1      61.2      58.0    4.86   4.82   2.96   \n",
       "3   0.26      Ideal     H      IF      61.1      57.0    4.16   4.12   2.53   \n",
       "4   1.10       Good     G     SI1      63.4      57.0    6.52   6.55   4.14   \n",
       "\n",
       "   price  \n",
       "0   6134  \n",
       "1    532  \n",
       "2   1103  \n",
       "3    600  \n",
       "4   4997  "
      ]
     },
     "execution_count": 72,
     "metadata": {},
     "output_type": "execute_result"
    }
   ],
   "source": [
    "df = df.rename(columns={\"depth\":\"depth(%)\",\"table\":\"table(%)\", \"x\":\"length\",\"y\":\"width\",\"z\":\"depth\"})\n",
    "df.head()"
   ]
  },
  {
   "cell_type": "markdown",
   "metadata": {},
   "source": [
    "### **Important info to keep in mind about the characteristics of diamonds affecting their value**\n"
   ]
  },
  {
   "cell_type": "markdown",
   "metadata": {},
   "source": [
    "- The 4 main characteristics for their value are `carat`, `clarity`, `cut` and `color`. \n",
    "- From these 4 characteristics, carat is the only numerical characteristic.\n",
    "- But `size` matters too. Carat and size are not the same: Carat is the weight of diamond. The higher value of carat the more expensive the diamond will be. However, if two diamonds have the same carat value but different size measures, the largest one will have a high price."
   ]
  },
  {
   "cell_type": "markdown",
   "metadata": {},
   "source": [
    "## **2. Analyze and transform the features of the dataset**"
   ]
  },
  {
   "cell_type": "markdown",
   "metadata": {},
   "source": [
    "### **Get info about number of null values and type of values by columns**"
   ]
  },
  {
   "cell_type": "code",
   "execution_count": 73,
   "metadata": {},
   "outputs": [
    {
     "name": "stdout",
     "output_type": "stream",
     "text": [
      "<class 'pandas.core.frame.DataFrame'>\n",
      "RangeIndex: 40345 entries, 0 to 40344\n",
      "Data columns (total 10 columns):\n",
      " #   Column    Non-Null Count  Dtype  \n",
      "---  ------    --------------  -----  \n",
      " 0   carat     40345 non-null  float64\n",
      " 1   cut       40345 non-null  object \n",
      " 2   color     40345 non-null  object \n",
      " 3   clarity   40345 non-null  object \n",
      " 4   depth(%)  40345 non-null  float64\n",
      " 5   table(%)  40345 non-null  float64\n",
      " 6   length    40345 non-null  float64\n",
      " 7   width     40345 non-null  float64\n",
      " 8   depth     40345 non-null  float64\n",
      " 9   price     40345 non-null  int64  \n",
      "dtypes: float64(6), int64(1), object(3)\n",
      "memory usage: 3.1+ MB\n"
     ]
    }
   ],
   "source": [
    "df.info()"
   ]
  },
  {
   "cell_type": "markdown",
   "metadata": {},
   "source": [
    "- No null values in columns\n",
    "- Columns \"cut\", \"color\" and \"clarity\" are categorical. Before converting their values to ordinal, analyze statistical data of numeric columns"
   ]
  },
  {
   "cell_type": "code",
   "execution_count": 74,
   "metadata": {},
   "outputs": [
    {
     "data": {
      "text/html": [
       "<div>\n",
       "<style scoped>\n",
       "    .dataframe tbody tr th:only-of-type {\n",
       "        vertical-align: middle;\n",
       "    }\n",
       "\n",
       "    .dataframe tbody tr th {\n",
       "        vertical-align: top;\n",
       "    }\n",
       "\n",
       "    .dataframe thead th {\n",
       "        text-align: right;\n",
       "    }\n",
       "</style>\n",
       "<table border=\"1\" class=\"dataframe\">\n",
       "  <thead>\n",
       "    <tr style=\"text-align: right;\">\n",
       "      <th></th>\n",
       "      <th>carat</th>\n",
       "      <th>depth(%)</th>\n",
       "      <th>table(%)</th>\n",
       "      <th>length</th>\n",
       "      <th>width</th>\n",
       "      <th>depth</th>\n",
       "      <th>price</th>\n",
       "    </tr>\n",
       "  </thead>\n",
       "  <tbody>\n",
       "    <tr>\n",
       "      <th>count</th>\n",
       "      <td>40345.000000</td>\n",
       "      <td>40345.000000</td>\n",
       "      <td>40345.000000</td>\n",
       "      <td>40345.000000</td>\n",
       "      <td>40345.000000</td>\n",
       "      <td>40345.000000</td>\n",
       "      <td>40345.000000</td>\n",
       "    </tr>\n",
       "    <tr>\n",
       "      <th>mean</th>\n",
       "      <td>0.795652</td>\n",
       "      <td>61.750413</td>\n",
       "      <td>57.460302</td>\n",
       "      <td>5.726106</td>\n",
       "      <td>5.730217</td>\n",
       "      <td>3.535136</td>\n",
       "      <td>3924.089924</td>\n",
       "    </tr>\n",
       "    <tr>\n",
       "      <th>std</th>\n",
       "      <td>0.470806</td>\n",
       "      <td>1.424219</td>\n",
       "      <td>2.235333</td>\n",
       "      <td>1.118690</td>\n",
       "      <td>1.148584</td>\n",
       "      <td>0.693662</td>\n",
       "      <td>3982.000515</td>\n",
       "    </tr>\n",
       "    <tr>\n",
       "      <th>min</th>\n",
       "      <td>0.200000</td>\n",
       "      <td>43.000000</td>\n",
       "      <td>43.000000</td>\n",
       "      <td>0.000000</td>\n",
       "      <td>0.000000</td>\n",
       "      <td>0.000000</td>\n",
       "      <td>326.000000</td>\n",
       "    </tr>\n",
       "    <tr>\n",
       "      <th>25%</th>\n",
       "      <td>0.400000</td>\n",
       "      <td>61.000000</td>\n",
       "      <td>56.000000</td>\n",
       "      <td>4.710000</td>\n",
       "      <td>4.720000</td>\n",
       "      <td>2.910000</td>\n",
       "      <td>948.000000</td>\n",
       "    </tr>\n",
       "    <tr>\n",
       "      <th>50%</th>\n",
       "      <td>0.700000</td>\n",
       "      <td>61.800000</td>\n",
       "      <td>57.000000</td>\n",
       "      <td>5.690000</td>\n",
       "      <td>5.710000</td>\n",
       "      <td>3.520000</td>\n",
       "      <td>2395.000000</td>\n",
       "    </tr>\n",
       "    <tr>\n",
       "      <th>75%</th>\n",
       "      <td>1.040000</td>\n",
       "      <td>62.500000</td>\n",
       "      <td>59.000000</td>\n",
       "      <td>6.540000</td>\n",
       "      <td>6.530000</td>\n",
       "      <td>4.030000</td>\n",
       "      <td>5313.000000</td>\n",
       "    </tr>\n",
       "    <tr>\n",
       "      <th>max</th>\n",
       "      <td>4.010000</td>\n",
       "      <td>79.000000</td>\n",
       "      <td>95.000000</td>\n",
       "      <td>10.020000</td>\n",
       "      <td>58.900000</td>\n",
       "      <td>8.060000</td>\n",
       "      <td>18818.000000</td>\n",
       "    </tr>\n",
       "  </tbody>\n",
       "</table>\n",
       "</div>"
      ],
      "text/plain": [
       "              carat      depth(%)      table(%)        length         width  \\\n",
       "count  40345.000000  40345.000000  40345.000000  40345.000000  40345.000000   \n",
       "mean       0.795652     61.750413     57.460302      5.726106      5.730217   \n",
       "std        0.470806      1.424219      2.235333      1.118690      1.148584   \n",
       "min        0.200000     43.000000     43.000000      0.000000      0.000000   \n",
       "25%        0.400000     61.000000     56.000000      4.710000      4.720000   \n",
       "50%        0.700000     61.800000     57.000000      5.690000      5.710000   \n",
       "75%        1.040000     62.500000     59.000000      6.540000      6.530000   \n",
       "max        4.010000     79.000000     95.000000     10.020000     58.900000   \n",
       "\n",
       "              depth         price  \n",
       "count  40345.000000  40345.000000  \n",
       "mean       3.535136   3924.089924  \n",
       "std        0.693662   3982.000515  \n",
       "min        0.000000    326.000000  \n",
       "25%        2.910000    948.000000  \n",
       "50%        3.520000   2395.000000  \n",
       "75%        4.030000   5313.000000  \n",
       "max        8.060000  18818.000000  "
      ]
     },
     "execution_count": 74,
     "metadata": {},
     "output_type": "execute_result"
    }
   ],
   "source": [
    "df.describe()"
   ]
  },
  {
   "cell_type": "markdown",
   "metadata": {},
   "source": [
    "Relevant info from summary of statistical data:\n",
    "\n",
    "- Some values in features \"width\", \"length\" and \"depth\" are equal to zero --> Remove these rows\n",
    "- Some values in feature \"width\" are greater than an expected value for diamond size --> check and remove if necessary"
   ]
  },
  {
   "cell_type": "markdown",
   "metadata": {},
   "source": [
    "### **Remove rows with wrong data**"
   ]
  },
  {
   "cell_type": "markdown",
   "metadata": {},
   "source": [
    "- **Remove values from columns related to size of diamonds (\"width\", \"lenght\", \"depth\") that are equal to 0 mm**"
   ]
  },
  {
   "cell_type": "code",
   "execution_count": 75,
   "metadata": {},
   "outputs": [
    {
     "data": {
      "text/plain": [
       "Int64Index([ 4960,  5127,  6571, 10971, 12572, 15252, 15518, 18027, 18658,\n",
       "            20916, 23417, 24641, 24846, 25671, 28570, 36145, 40203],\n",
       "           dtype='int64')"
      ]
     },
     "execution_count": 75,
     "metadata": {},
     "output_type": "execute_result"
    }
   ],
   "source": [
    "# Remove values == 0 from columns about diamond size\n",
    "sizes_cero = df[(df[\"width\"]==0.0)|(df[\"depth\"]==0.0)|(df[\"length\"]==0.0)].index\n",
    "sizes_cero"
   ]
  },
  {
   "cell_type": "code",
   "execution_count": 76,
   "metadata": {},
   "outputs": [],
   "source": [
    "df.drop(index=sizes_cero, inplace=True)"
   ]
  },
  {
   "cell_type": "markdown",
   "metadata": {},
   "source": [
    "- **Check and remove (if necessary) odd values from column \"width\" --> diamond with a width greater than 11 mm could be odd**"
   ]
  },
  {
   "cell_type": "code",
   "execution_count": 77,
   "metadata": {},
   "outputs": [
    {
     "data": {
      "text/plain": [
       "array([31.8, 58.9])"
      ]
     },
     "execution_count": 77,
     "metadata": {},
     "output_type": "execute_result"
    }
   ],
   "source": [
    "# Find values of width greater than 11 mm\n",
    "df[\"width\"].unique()[df[\"width\"].unique()>11]"
   ]
  },
  {
   "cell_type": "code",
   "execution_count": 78,
   "metadata": {},
   "outputs": [
    {
     "data": {
      "text/html": [
       "<div>\n",
       "<style scoped>\n",
       "    .dataframe tbody tr th:only-of-type {\n",
       "        vertical-align: middle;\n",
       "    }\n",
       "\n",
       "    .dataframe tbody tr th {\n",
       "        vertical-align: top;\n",
       "    }\n",
       "\n",
       "    .dataframe thead th {\n",
       "        text-align: right;\n",
       "    }\n",
       "</style>\n",
       "<table border=\"1\" class=\"dataframe\">\n",
       "  <thead>\n",
       "    <tr style=\"text-align: right;\">\n",
       "      <th></th>\n",
       "      <th>carat</th>\n",
       "      <th>cut</th>\n",
       "      <th>color</th>\n",
       "      <th>clarity</th>\n",
       "      <th>depth(%)</th>\n",
       "      <th>table(%)</th>\n",
       "      <th>length</th>\n",
       "      <th>width</th>\n",
       "      <th>depth</th>\n",
       "      <th>price</th>\n",
       "    </tr>\n",
       "  </thead>\n",
       "  <tbody>\n",
       "    <tr>\n",
       "      <th>33575</th>\n",
       "      <td>0.51</td>\n",
       "      <td>Ideal</td>\n",
       "      <td>E</td>\n",
       "      <td>VS1</td>\n",
       "      <td>61.8</td>\n",
       "      <td>55.0</td>\n",
       "      <td>5.15</td>\n",
       "      <td>31.8</td>\n",
       "      <td>5.12</td>\n",
       "      <td>2075</td>\n",
       "    </tr>\n",
       "    <tr>\n",
       "      <th>34424</th>\n",
       "      <td>2.00</td>\n",
       "      <td>Premium</td>\n",
       "      <td>H</td>\n",
       "      <td>SI2</td>\n",
       "      <td>58.9</td>\n",
       "      <td>57.0</td>\n",
       "      <td>8.09</td>\n",
       "      <td>58.9</td>\n",
       "      <td>8.06</td>\n",
       "      <td>12210</td>\n",
       "    </tr>\n",
       "  </tbody>\n",
       "</table>\n",
       "</div>"
      ],
      "text/plain": [
       "       carat      cut color clarity  depth(%)  table(%)  length  width  depth  \\\n",
       "33575   0.51    Ideal     E     VS1      61.8      55.0    5.15   31.8   5.12   \n",
       "34424   2.00  Premium     H     SI2      58.9      57.0    8.09   58.9   8.06   \n",
       "\n",
       "       price  \n",
       "33575   2075  \n",
       "34424  12210  "
      ]
     },
     "execution_count": 78,
     "metadata": {},
     "output_type": "execute_result"
    }
   ],
   "source": [
    "# Just two values greater than 11mm in width column. Take a look in the rows of those values\n",
    "df[df[\"width\"]>11]"
   ]
  },
  {
   "cell_type": "markdown",
   "metadata": {},
   "source": [
    "Since these two high values of width are not in parallel with the other measurements of sizes and \"carat\", these two rows are removed."
   ]
  },
  {
   "cell_type": "code",
   "execution_count": 79,
   "metadata": {},
   "outputs": [
    {
     "data": {
      "text/plain": [
       "(40326, 10)"
      ]
     },
     "metadata": {},
     "output_type": "display_data"
    },
    {
     "data": {
      "text/html": [
       "<div>\n",
       "<style scoped>\n",
       "    .dataframe tbody tr th:only-of-type {\n",
       "        vertical-align: middle;\n",
       "    }\n",
       "\n",
       "    .dataframe tbody tr th {\n",
       "        vertical-align: top;\n",
       "    }\n",
       "\n",
       "    .dataframe thead th {\n",
       "        text-align: right;\n",
       "    }\n",
       "</style>\n",
       "<table border=\"1\" class=\"dataframe\">\n",
       "  <thead>\n",
       "    <tr style=\"text-align: right;\">\n",
       "      <th></th>\n",
       "      <th>carat</th>\n",
       "      <th>cut</th>\n",
       "      <th>color</th>\n",
       "      <th>clarity</th>\n",
       "      <th>depth(%)</th>\n",
       "      <th>table(%)</th>\n",
       "      <th>length</th>\n",
       "      <th>width</th>\n",
       "      <th>depth</th>\n",
       "      <th>price</th>\n",
       "    </tr>\n",
       "  </thead>\n",
       "  <tbody>\n",
       "    <tr>\n",
       "      <th>0</th>\n",
       "      <td>1.21</td>\n",
       "      <td>Ideal</td>\n",
       "      <td>H</td>\n",
       "      <td>VS2</td>\n",
       "      <td>63.0</td>\n",
       "      <td>57.0</td>\n",
       "      <td>6.73</td>\n",
       "      <td>6.70</td>\n",
       "      <td>4.23</td>\n",
       "      <td>6134</td>\n",
       "    </tr>\n",
       "    <tr>\n",
       "      <th>1</th>\n",
       "      <td>0.28</td>\n",
       "      <td>Very Good</td>\n",
       "      <td>D</td>\n",
       "      <td>VVS2</td>\n",
       "      <td>64.0</td>\n",
       "      <td>56.0</td>\n",
       "      <td>4.14</td>\n",
       "      <td>4.17</td>\n",
       "      <td>2.66</td>\n",
       "      <td>532</td>\n",
       "    </tr>\n",
       "    <tr>\n",
       "      <th>2</th>\n",
       "      <td>0.42</td>\n",
       "      <td>Premium</td>\n",
       "      <td>F</td>\n",
       "      <td>VS1</td>\n",
       "      <td>61.2</td>\n",
       "      <td>58.0</td>\n",
       "      <td>4.86</td>\n",
       "      <td>4.82</td>\n",
       "      <td>2.96</td>\n",
       "      <td>1103</td>\n",
       "    </tr>\n",
       "    <tr>\n",
       "      <th>3</th>\n",
       "      <td>0.26</td>\n",
       "      <td>Ideal</td>\n",
       "      <td>H</td>\n",
       "      <td>IF</td>\n",
       "      <td>61.1</td>\n",
       "      <td>57.0</td>\n",
       "      <td>4.16</td>\n",
       "      <td>4.12</td>\n",
       "      <td>2.53</td>\n",
       "      <td>600</td>\n",
       "    </tr>\n",
       "    <tr>\n",
       "      <th>4</th>\n",
       "      <td>1.10</td>\n",
       "      <td>Good</td>\n",
       "      <td>G</td>\n",
       "      <td>SI1</td>\n",
       "      <td>63.4</td>\n",
       "      <td>57.0</td>\n",
       "      <td>6.52</td>\n",
       "      <td>6.55</td>\n",
       "      <td>4.14</td>\n",
       "      <td>4997</td>\n",
       "    </tr>\n",
       "  </tbody>\n",
       "</table>\n",
       "</div>"
      ],
      "text/plain": [
       "   carat        cut color clarity  depth(%)  table(%)  length  width  depth  \\\n",
       "0   1.21      Ideal     H     VS2      63.0      57.0    6.73   6.70   4.23   \n",
       "1   0.28  Very Good     D    VVS2      64.0      56.0    4.14   4.17   2.66   \n",
       "2   0.42    Premium     F     VS1      61.2      58.0    4.86   4.82   2.96   \n",
       "3   0.26      Ideal     H      IF      61.1      57.0    4.16   4.12   2.53   \n",
       "4   1.10       Good     G     SI1      63.4      57.0    6.52   6.55   4.14   \n",
       "\n",
       "   price  \n",
       "0   6134  \n",
       "1    532  \n",
       "2   1103  \n",
       "3    600  \n",
       "4   4997  "
      ]
     },
     "execution_count": 79,
     "metadata": {},
     "output_type": "execute_result"
    }
   ],
   "source": [
    "# Select rows of dataset whose width value is less than or equal to 11mm\n",
    "df = df[df[\"width\"]<=11]\n",
    "display(df.shape)\n",
    "df.head()"
   ]
  },
  {
   "cell_type": "markdown",
   "metadata": {},
   "source": [
    "### **Correlation between features**"
   ]
  },
  {
   "cell_type": "code",
   "execution_count": 80,
   "metadata": {},
   "outputs": [
    {
     "data": {
      "text/html": [
       "<div>\n",
       "<style scoped>\n",
       "    .dataframe tbody tr th:only-of-type {\n",
       "        vertical-align: middle;\n",
       "    }\n",
       "\n",
       "    .dataframe tbody tr th {\n",
       "        vertical-align: top;\n",
       "    }\n",
       "\n",
       "    .dataframe thead th {\n",
       "        text-align: right;\n",
       "    }\n",
       "</style>\n",
       "<table border=\"1\" class=\"dataframe\">\n",
       "  <thead>\n",
       "    <tr style=\"text-align: right;\">\n",
       "      <th></th>\n",
       "      <th>carat</th>\n",
       "      <th>depth(%)</th>\n",
       "      <th>table(%)</th>\n",
       "      <th>length</th>\n",
       "      <th>width</th>\n",
       "      <th>depth</th>\n",
       "      <th>price</th>\n",
       "    </tr>\n",
       "  </thead>\n",
       "  <tbody>\n",
       "    <tr>\n",
       "      <th>carat</th>\n",
       "      <td>1.000000</td>\n",
       "      <td>NaN</td>\n",
       "      <td>NaN</td>\n",
       "      <td>0.978397</td>\n",
       "      <td>0.977548</td>\n",
       "      <td>0.976846</td>\n",
       "      <td>0.921881</td>\n",
       "    </tr>\n",
       "    <tr>\n",
       "      <th>depth(%)</th>\n",
       "      <td>NaN</td>\n",
       "      <td>1.0</td>\n",
       "      <td>NaN</td>\n",
       "      <td>NaN</td>\n",
       "      <td>NaN</td>\n",
       "      <td>NaN</td>\n",
       "      <td>NaN</td>\n",
       "    </tr>\n",
       "    <tr>\n",
       "      <th>table(%)</th>\n",
       "      <td>NaN</td>\n",
       "      <td>NaN</td>\n",
       "      <td>1.0</td>\n",
       "      <td>NaN</td>\n",
       "      <td>NaN</td>\n",
       "      <td>NaN</td>\n",
       "      <td>NaN</td>\n",
       "    </tr>\n",
       "    <tr>\n",
       "      <th>length</th>\n",
       "      <td>0.978397</td>\n",
       "      <td>NaN</td>\n",
       "      <td>NaN</td>\n",
       "      <td>1.000000</td>\n",
       "      <td>0.998622</td>\n",
       "      <td>0.990925</td>\n",
       "      <td>0.886655</td>\n",
       "    </tr>\n",
       "    <tr>\n",
       "      <th>width</th>\n",
       "      <td>0.977548</td>\n",
       "      <td>NaN</td>\n",
       "      <td>NaN</td>\n",
       "      <td>0.998622</td>\n",
       "      <td>1.000000</td>\n",
       "      <td>0.990627</td>\n",
       "      <td>0.888368</td>\n",
       "    </tr>\n",
       "    <tr>\n",
       "      <th>depth</th>\n",
       "      <td>0.976846</td>\n",
       "      <td>NaN</td>\n",
       "      <td>NaN</td>\n",
       "      <td>0.990925</td>\n",
       "      <td>0.990627</td>\n",
       "      <td>1.000000</td>\n",
       "      <td>0.881395</td>\n",
       "    </tr>\n",
       "    <tr>\n",
       "      <th>price</th>\n",
       "      <td>0.921881</td>\n",
       "      <td>NaN</td>\n",
       "      <td>NaN</td>\n",
       "      <td>0.886655</td>\n",
       "      <td>0.888368</td>\n",
       "      <td>0.881395</td>\n",
       "      <td>1.000000</td>\n",
       "    </tr>\n",
       "  </tbody>\n",
       "</table>\n",
       "</div>"
      ],
      "text/plain": [
       "             carat  depth(%)  table(%)    length     width     depth     price\n",
       "carat     1.000000       NaN       NaN  0.978397  0.977548  0.976846  0.921881\n",
       "depth(%)       NaN       1.0       NaN       NaN       NaN       NaN       NaN\n",
       "table(%)       NaN       NaN       1.0       NaN       NaN       NaN       NaN\n",
       "length    0.978397       NaN       NaN  1.000000  0.998622  0.990925  0.886655\n",
       "width     0.977548       NaN       NaN  0.998622  1.000000  0.990627  0.888368\n",
       "depth     0.976846       NaN       NaN  0.990925  0.990627  1.000000  0.881395\n",
       "price     0.921881       NaN       NaN  0.886655  0.888368  0.881395  1.000000"
      ]
     },
     "execution_count": 80,
     "metadata": {},
     "output_type": "execute_result"
    }
   ],
   "source": [
    "corr_ma = df.corr()\n",
    "corr_ma[corr_ma>0.8]"
   ]
  },
  {
   "cell_type": "markdown",
   "metadata": {},
   "source": [
    "**Except \"table(%)\" and \"depth(%)\" features, all features are highly correlated between them and with price data.**"
   ]
  },
  {
   "cell_type": "code",
   "execution_count": 81,
   "metadata": {},
   "outputs": [
    {
     "data": {
      "text/plain": [
       "(array([0.5, 1.5, 2.5, 3.5, 4.5, 5.5, 6.5]),\n",
       " <a list of 7 Text major ticklabel objects>)"
      ]
     },
     "execution_count": 81,
     "metadata": {},
     "output_type": "execute_result"
    },
    {
     "data": {
      "image/png": "[encoded data removed]",
      "text/plain": [
       "<Figure size 720x504 with 2 Axes>"
      ]
     },
     "metadata": {
      "needs_background": "light"
     },
     "output_type": "display_data"
    }
   ],
   "source": [
    "mask = np.zeros_like(corr_ma, dtype=np.bool)\n",
    "mask[np.triu_indices_from(mask)] = True\n",
    "f, ax = plt.subplots(figsize=(10, 7))\n",
    "cmap = sns.diverging_palette(220, 10, as_cmap=True)\n",
    "sns.heatmap(corr_ma, mask=mask, cmap=cmap, vmin=-0.5,vmax=0.5, center=0,\n",
    "            square=True, linewidths=.5, cbar_kws={\"shrink\": .5})\n",
    "plt.yticks(rotation=45)"
   ]
  },
  {
   "cell_type": "markdown",
   "metadata": {},
   "source": [
    "**Conclusions from correlation matrix and heatmap plot:**\n",
    "\n",
    "1) Feature `carat` has a high correlation with features about diamond size (`width`,`length` and `depth`). This makes sense, since carat feature is the diamond weight. However, as discussed above, diamonds with same carats but different sizes may have different prices. So, because **these 4 features provide different info** about diamond, I am not going to remove none of them.\n",
    "\n",
    "2) Morever, these 4 features have a high correlation with price. Therefore, they are important to know the price of a diamond.\n",
    "\n",
    "3) `Table(%)` (ratio between `table width` and `total width`) seems to not provide relevant info about price.\n",
    "\n",
    "4) As table(%), `depth(%)` seems to contain not significant information"
   ]
  },
  {
   "cell_type": "markdown",
   "metadata": {},
   "source": [
    "### **Tranform the feature `table(%)`**\n",
    "\n",
    "Table(%) is an important data because is related to the light reflection capabilities of the diamond. Despite this,  if we observe the correlation between table(%) and price, table(%) seems not to provide much info about the price. \n",
    "\n",
    "An optimal table(%) is in a range of 53 to 58%. Since table(%) is a \"table width\" to \"total width\" ratio, table(%) can takes these values (53-58%) as long as \"table width\" value is half the \"total width\" value.\n",
    "\n",
    "However, diamonds with larger sizes are more expensive than those with smaller sizes. Therefore, instead of table(%), \"table width\" may be a more interesting feature, because it can provide more relevant information during the model training in combination with \"total width\". \n",
    "\n",
    "Only diamonds with an appropriate \"table width\" and \"total width\" will have a high price due to their size and their ability to reflect light."
   ]
  },
  {
   "cell_type": "code",
   "execution_count": 82,
   "metadata": {},
   "outputs": [],
   "source": [
    "df[\"table\"] = (df[\"table(%)\"]/100)*df[\"width\"]"
   ]
  },
  {
   "cell_type": "code",
   "execution_count": 83,
   "metadata": {},
   "outputs": [
    {
     "data": {
      "text/plain": [
       "(array([0.5, 1.5, 2.5, 3.5, 4.5, 5.5, 6.5, 7.5]),\n",
       " <a list of 8 Text major ticklabel objects>)"
      ]
     },
     "execution_count": 83,
     "metadata": {},
     "output_type": "execute_result"
    },
    {
     "data": {
      "image/png": "[encoded data removed]",
      "text/plain": [
       "<Figure size 720x504 with 2 Axes>"
      ]
     },
     "metadata": {
      "needs_background": "light"
     },
     "output_type": "display_data"
    }
   ],
   "source": [
    "corr_ma = df.corr()\n",
    "#corr_ma[corr_ma>0.8]\n",
    "mask = np.zeros_like(corr_ma, dtype=np.bool)\n",
    "mask[np.triu_indices_from(mask)] = True\n",
    "f, ax = plt.subplots(figsize=(10, 7))\n",
    "cmap = sns.diverging_palette(220, 10, as_cmap=True)\n",
    "sns.heatmap(corr_ma, mask=mask, cmap=cmap, vmin=-0.5,vmax=0.5, center=0,\n",
    "            square=True, linewidths=.5, cbar_kws={\"shrink\": .5})\n",
    "plt.yticks(rotation=45)"
   ]
  },
  {
   "cell_type": "markdown",
   "metadata": {},
   "source": [
    "Analyzing \"table\" and \"table(%)\", it can be observed how \"table\" correlates better with the other features and also with price. Therefore, keep \"table\" feature and remove \"table(%)\""
   ]
  },
  {
   "cell_type": "code",
   "execution_count": 84,
   "metadata": {},
   "outputs": [],
   "source": [
    "df.drop(columns=\"table(%)\",inplace=True)"
   ]
  },
  {
   "cell_type": "markdown",
   "metadata": {},
   "source": [
    "### **Remove `depth(%)` feature**"
   ]
  },
  {
   "cell_type": "markdown",
   "metadata": {},
   "source": [
    "Depth(%) feature is also related to the diamond capability of reflecting light. The optimal depth(%) is in a range from 59 to 63%.\n",
    "\n",
    "`Depth(%)` is calculated as a combination of the values `width`, `length` and `depth`. Since an optimal depth(%) can be achieve by a larger diamond as well as a smaller one, features width, length and depth are more important to calculate price of a diamond and, therefore, depth(%) may provide redundant information."
   ]
  },
  {
   "cell_type": "code",
   "execution_count": 85,
   "metadata": {},
   "outputs": [],
   "source": [
    "df.drop(columns=\"depth(%)\",inplace=True)"
   ]
  },
  {
   "cell_type": "markdown",
   "metadata": {},
   "source": [
    "### **Distribution of numeric features**"
   ]
  },
  {
   "cell_type": "code",
   "execution_count": 86,
   "metadata": {},
   "outputs": [
    {
     "data": {
      "image/png": "[encoded data removed]",
      "text/plain": [
       "<Figure size 1800x360 with 5 Axes>"
      ]
     },
     "metadata": {
      "needs_background": "light"
     },
     "output_type": "display_data"
    }
   ],
   "source": [
    "numeric_columns = [\"width\",\"carat\",\"length\",\"depth\",\"table\"]\n",
    "X = df[numeric_columns]\n",
    "\n",
    "plt.figure(figsize=(25,5))\n",
    "for i in range(X.shape[1]):\n",
    "    plt.subplot(1,X.shape[1],i+1)\n",
    "    plt.hist(X.iloc[:,i],bins=20)\n",
    "    plt.xlabel(X.iloc[:,i].name, fontsize=14)"
   ]
  },
  {
   "cell_type": "markdown",
   "metadata": {},
   "source": [
    "The distributions of most of the features look like a normal distribution, except in the feature \"carat\". Therefore, values form this feature will be transform so that its distribution is a normal distribution."
   ]
  },
  {
   "cell_type": "code",
   "execution_count": 87,
   "metadata": {},
   "outputs": [
    {
     "data": {
      "image/png": "[encoded data removed]",
      "text/plain": [
       "<Figure size 720x288 with 2 Axes>"
      ]
     },
     "metadata": {
      "needs_background": "light"
     },
     "output_type": "display_data"
    }
   ],
   "source": [
    "# Since \"carat\" feature has an exponential distribution, apply log to values. \n",
    "df[\"carat_log\"] = df[\"carat\"].apply(math.log)\n",
    "\n",
    "plt.figure(figsize=(10,4))\n",
    "plt.subplot(1,2,1)\n",
    "plt.hist(df[\"carat\"],bins=10)\n",
    "plt.subplot(1,2,2)\n",
    "plt.hist(df[\"carat_log\"],bins=10)\n",
    "plt.show()"
   ]
  },
  {
   "cell_type": "code",
   "execution_count": 88,
   "metadata": {},
   "outputs": [
    {
     "data": {
      "text/html": [
       "<div>\n",
       "<style scoped>\n",
       "    .dataframe tbody tr th:only-of-type {\n",
       "        vertical-align: middle;\n",
       "    }\n",
       "\n",
       "    .dataframe tbody tr th {\n",
       "        vertical-align: top;\n",
       "    }\n",
       "\n",
       "    .dataframe thead th {\n",
       "        text-align: right;\n",
       "    }\n",
       "</style>\n",
       "<table border=\"1\" class=\"dataframe\">\n",
       "  <thead>\n",
       "    <tr style=\"text-align: right;\">\n",
       "      <th></th>\n",
       "      <th>cut</th>\n",
       "      <th>color</th>\n",
       "      <th>clarity</th>\n",
       "      <th>length</th>\n",
       "      <th>width</th>\n",
       "      <th>depth</th>\n",
       "      <th>price</th>\n",
       "      <th>table</th>\n",
       "      <th>carat_log</th>\n",
       "    </tr>\n",
       "  </thead>\n",
       "  <tbody>\n",
       "    <tr>\n",
       "      <th>0</th>\n",
       "      <td>Ideal</td>\n",
       "      <td>H</td>\n",
       "      <td>VS2</td>\n",
       "      <td>6.73</td>\n",
       "      <td>6.70</td>\n",
       "      <td>4.23</td>\n",
       "      <td>6134</td>\n",
       "      <td>3.8190</td>\n",
       "      <td>0.190620</td>\n",
       "    </tr>\n",
       "    <tr>\n",
       "      <th>1</th>\n",
       "      <td>Very Good</td>\n",
       "      <td>D</td>\n",
       "      <td>VVS2</td>\n",
       "      <td>4.14</td>\n",
       "      <td>4.17</td>\n",
       "      <td>2.66</td>\n",
       "      <td>532</td>\n",
       "      <td>2.3352</td>\n",
       "      <td>-1.272966</td>\n",
       "    </tr>\n",
       "    <tr>\n",
       "      <th>2</th>\n",
       "      <td>Premium</td>\n",
       "      <td>F</td>\n",
       "      <td>VS1</td>\n",
       "      <td>4.86</td>\n",
       "      <td>4.82</td>\n",
       "      <td>2.96</td>\n",
       "      <td>1103</td>\n",
       "      <td>2.7956</td>\n",
       "      <td>-0.867501</td>\n",
       "    </tr>\n",
       "    <tr>\n",
       "      <th>3</th>\n",
       "      <td>Ideal</td>\n",
       "      <td>H</td>\n",
       "      <td>IF</td>\n",
       "      <td>4.16</td>\n",
       "      <td>4.12</td>\n",
       "      <td>2.53</td>\n",
       "      <td>600</td>\n",
       "      <td>2.3484</td>\n",
       "      <td>-1.347074</td>\n",
       "    </tr>\n",
       "    <tr>\n",
       "      <th>4</th>\n",
       "      <td>Good</td>\n",
       "      <td>G</td>\n",
       "      <td>SI1</td>\n",
       "      <td>6.52</td>\n",
       "      <td>6.55</td>\n",
       "      <td>4.14</td>\n",
       "      <td>4997</td>\n",
       "      <td>3.7335</td>\n",
       "      <td>0.095310</td>\n",
       "    </tr>\n",
       "  </tbody>\n",
       "</table>\n",
       "</div>"
      ],
      "text/plain": [
       "         cut color clarity  length  width  depth  price   table  carat_log\n",
       "0      Ideal     H     VS2    6.73   6.70   4.23   6134  3.8190   0.190620\n",
       "1  Very Good     D    VVS2    4.14   4.17   2.66    532  2.3352  -1.272966\n",
       "2    Premium     F     VS1    4.86   4.82   2.96   1103  2.7956  -0.867501\n",
       "3      Ideal     H      IF    4.16   4.12   2.53    600  2.3484  -1.347074\n",
       "4       Good     G     SI1    6.52   6.55   4.14   4997  3.7335   0.095310"
      ]
     },
     "execution_count": 88,
     "metadata": {},
     "output_type": "execute_result"
    }
   ],
   "source": [
    "df.drop(columns=\"carat\",inplace=True)\n",
    "df.head()"
   ]
  },
  {
   "cell_type": "markdown",
   "metadata": {},
   "source": [
    "### **Outliers in numeric features**"
   ]
  },
  {
   "cell_type": "code",
   "execution_count": 89,
   "metadata": {},
   "outputs": [
    {
     "data": {
      "image/png": "[encoded data removed]",
      "text/plain": [
       "<Figure size 1800x360 with 5 Axes>"
      ]
     },
     "metadata": {
      "needs_background": "light"
     },
     "output_type": "display_data"
    }
   ],
   "source": [
    "plt.figure(figsize=(25,5))\n",
    "for i in range(X.shape[1]):\n",
    "    plt.subplot(1,X.shape[1],i+1)\n",
    "    plt.boxplot(X.iloc[:,i])\n",
    "    plt.xlabel(X.iloc[:,i].name, fontsize=14)"
   ]
  },
  {
   "cell_type": "markdown",
   "metadata": {},
   "source": [
    "At this moment, outliers are not going to be removed because these higher values could correspond with the most expensive diamonds."
   ]
  },
  {
   "cell_type": "markdown",
   "metadata": {},
   "source": [
    "### **Change categorical values in features `cut`, `color`, `clarity` to ordinal** "
   ]
  },
  {
   "cell_type": "markdown",
   "metadata": {},
   "source": [
    "First, have a look to different values in columns \"cut\", \"color\" and \"clarity\""
   ]
  },
  {
   "cell_type": "code",
   "execution_count": 90,
   "metadata": {},
   "outputs": [
    {
     "data": {
      "text/plain": [
       "Ideal        16086\n",
       "Premium      10329\n",
       "Very Good     9035\n",
       "Good          3691\n",
       "Fair          1185\n",
       "Name: cut, dtype: int64"
      ]
     },
     "metadata": {},
     "output_type": "display_data"
    },
    {
     "data": {
      "text/plain": [
       "G    8492\n",
       "E    7350\n",
       "F    7127\n",
       "H    6228\n",
       "D    5073\n",
       "I    4022\n",
       "J    2034\n",
       "Name: color, dtype: int64"
      ]
     },
     "metadata": {},
     "output_type": "display_data"
    },
    {
     "data": {
      "text/plain": [
       "SI1     9749\n",
       "VS2     9175\n",
       "SI2     6820\n",
       "VS1     6099\n",
       "VVS2    3858\n",
       "VVS1    2713\n",
       "IF      1362\n",
       "I1       550\n",
       "Name: clarity, dtype: int64"
      ]
     },
     "metadata": {},
     "output_type": "display_data"
    }
   ],
   "source": [
    "display(df.cut.value_counts(),df.color.value_counts(),df.clarity.value_counts())"
   ]
  },
  {
   "cell_type": "markdown",
   "metadata": {},
   "source": [
    "**To take into account:** These features are not balanced. There are in different proportions. \n",
    "\n",
    "Create lists of the categories to change ordered from worst to best to calculate diamond price"
   ]
  },
  {
   "cell_type": "code",
   "execution_count": 91,
   "metadata": {},
   "outputs": [],
   "source": [
    "# Cuts are already ordered by value_counts from the worst (Fair: 0) to the best (Ideal: 4)\n",
    "# Colors will be ordered by reversed alphabetical order from the worst (J:0) to the best (D:6)\n",
    "# Clarities have to be ordered \"by hand\" from the worst (I1: 0) to the best (IF:7)\n",
    "cuts = list(df.cut.value_counts().sort_values().index)\n",
    "colors = list(df.color.value_counts().index.sort_values(ascending=False))\n",
    "clarities = [\"I1\",\"SI2\",\"SI1\",\"VS2\",\"VS1\",\"VVS2\",\"VVS1\",\"IF\"]"
   ]
  },
  {
   "cell_type": "markdown",
   "metadata": {},
   "source": [
    "Create new columns from the categorical ones, converting the attribute to a number"
   ]
  },
  {
   "cell_type": "code",
   "execution_count": 92,
   "metadata": {},
   "outputs": [],
   "source": [
    "# Functions to convert features from categorical to numerical given a ordered categories\n",
    "categorical_columns = {\"cut\":cuts,\"color\":colors,\"clarity\":clarities}\n",
    "for key,value in categorical_columns.items():\n",
    "    df[key] = pd.Categorical(df[key], categories = value, ordered = True)\n",
    "    df[f\"{key}_num\"] = df[key].cat.codes"
   ]
  },
  {
   "cell_type": "markdown",
   "metadata": {},
   "source": [
    "Finally, remove categorical columns"
   ]
  },
  {
   "cell_type": "code",
   "execution_count": 93,
   "metadata": {},
   "outputs": [
    {
     "data": {
      "text/html": [
       "<div>\n",
       "<style scoped>\n",
       "    .dataframe tbody tr th:only-of-type {\n",
       "        vertical-align: middle;\n",
       "    }\n",
       "\n",
       "    .dataframe tbody tr th {\n",
       "        vertical-align: top;\n",
       "    }\n",
       "\n",
       "    .dataframe thead th {\n",
       "        text-align: right;\n",
       "    }\n",
       "</style>\n",
       "<table border=\"1\" class=\"dataframe\">\n",
       "  <thead>\n",
       "    <tr style=\"text-align: right;\">\n",
       "      <th></th>\n",
       "      <th>length</th>\n",
       "      <th>width</th>\n",
       "      <th>depth</th>\n",
       "      <th>price</th>\n",
       "      <th>table</th>\n",
       "      <th>carat_log</th>\n",
       "      <th>cut_num</th>\n",
       "      <th>color_num</th>\n",
       "      <th>clarity_num</th>\n",
       "    </tr>\n",
       "  </thead>\n",
       "  <tbody>\n",
       "    <tr>\n",
       "      <th>0</th>\n",
       "      <td>6.73</td>\n",
       "      <td>6.70</td>\n",
       "      <td>4.23</td>\n",
       "      <td>6134</td>\n",
       "      <td>3.8190</td>\n",
       "      <td>0.190620</td>\n",
       "      <td>4</td>\n",
       "      <td>2</td>\n",
       "      <td>3</td>\n",
       "    </tr>\n",
       "    <tr>\n",
       "      <th>1</th>\n",
       "      <td>4.14</td>\n",
       "      <td>4.17</td>\n",
       "      <td>2.66</td>\n",
       "      <td>532</td>\n",
       "      <td>2.3352</td>\n",
       "      <td>-1.272966</td>\n",
       "      <td>2</td>\n",
       "      <td>6</td>\n",
       "      <td>5</td>\n",
       "    </tr>\n",
       "    <tr>\n",
       "      <th>2</th>\n",
       "      <td>4.86</td>\n",
       "      <td>4.82</td>\n",
       "      <td>2.96</td>\n",
       "      <td>1103</td>\n",
       "      <td>2.7956</td>\n",
       "      <td>-0.867501</td>\n",
       "      <td>3</td>\n",
       "      <td>4</td>\n",
       "      <td>4</td>\n",
       "    </tr>\n",
       "    <tr>\n",
       "      <th>3</th>\n",
       "      <td>4.16</td>\n",
       "      <td>4.12</td>\n",
       "      <td>2.53</td>\n",
       "      <td>600</td>\n",
       "      <td>2.3484</td>\n",
       "      <td>-1.347074</td>\n",
       "      <td>4</td>\n",
       "      <td>2</td>\n",
       "      <td>7</td>\n",
       "    </tr>\n",
       "    <tr>\n",
       "      <th>4</th>\n",
       "      <td>6.52</td>\n",
       "      <td>6.55</td>\n",
       "      <td>4.14</td>\n",
       "      <td>4997</td>\n",
       "      <td>3.7335</td>\n",
       "      <td>0.095310</td>\n",
       "      <td>1</td>\n",
       "      <td>3</td>\n",
       "      <td>2</td>\n",
       "    </tr>\n",
       "  </tbody>\n",
       "</table>\n",
       "</div>"
      ],
      "text/plain": [
       "   length  width  depth  price   table  carat_log  cut_num  color_num  \\\n",
       "0    6.73   6.70   4.23   6134  3.8190   0.190620        4          2   \n",
       "1    4.14   4.17   2.66    532  2.3352  -1.272966        2          6   \n",
       "2    4.86   4.82   2.96   1103  2.7956  -0.867501        3          4   \n",
       "3    4.16   4.12   2.53    600  2.3484  -1.347074        4          2   \n",
       "4    6.52   6.55   4.14   4997  3.7335   0.095310        1          3   \n",
       "\n",
       "   clarity_num  \n",
       "0            3  \n",
       "1            5  \n",
       "2            4  \n",
       "3            7  \n",
       "4            2  "
      ]
     },
     "execution_count": 93,
     "metadata": {},
     "output_type": "execute_result"
    }
   ],
   "source": [
    "df.drop(columns=[\"cut\",\"color\",\"clarity\"],inplace=True)\n",
    "df.head()"
   ]
  },
  {
   "cell_type": "markdown",
   "metadata": {},
   "source": [
    "### **Correlation between all features**"
   ]
  },
  {
   "cell_type": "code",
   "execution_count": 94,
   "metadata": {},
   "outputs": [
    {
     "data": {
      "text/html": [
       "<div>\n",
       "<style scoped>\n",
       "    .dataframe tbody tr th:only-of-type {\n",
       "        vertical-align: middle;\n",
       "    }\n",
       "\n",
       "    .dataframe tbody tr th {\n",
       "        vertical-align: top;\n",
       "    }\n",
       "\n",
       "    .dataframe thead th {\n",
       "        text-align: right;\n",
       "    }\n",
       "</style>\n",
       "<table border=\"1\" class=\"dataframe\">\n",
       "  <thead>\n",
       "    <tr style=\"text-align: right;\">\n",
       "      <th></th>\n",
       "      <th>length</th>\n",
       "      <th>width</th>\n",
       "      <th>depth</th>\n",
       "      <th>price</th>\n",
       "      <th>table</th>\n",
       "      <th>carat_log</th>\n",
       "      <th>cut_num</th>\n",
       "      <th>color_num</th>\n",
       "      <th>clarity_num</th>\n",
       "    </tr>\n",
       "  </thead>\n",
       "  <tbody>\n",
       "    <tr>\n",
       "      <th>length</th>\n",
       "      <td>1.000000</td>\n",
       "      <td>0.998622</td>\n",
       "      <td>0.990925</td>\n",
       "      <td>0.886655</td>\n",
       "      <td>0.981370</td>\n",
       "      <td>0.992971</td>\n",
       "      <td>NaN</td>\n",
       "      <td>NaN</td>\n",
       "      <td>NaN</td>\n",
       "    </tr>\n",
       "    <tr>\n",
       "      <th>width</th>\n",
       "      <td>0.998622</td>\n",
       "      <td>1.000000</td>\n",
       "      <td>0.990627</td>\n",
       "      <td>0.888368</td>\n",
       "      <td>0.981428</td>\n",
       "      <td>0.992600</td>\n",
       "      <td>NaN</td>\n",
       "      <td>NaN</td>\n",
       "      <td>NaN</td>\n",
       "    </tr>\n",
       "    <tr>\n",
       "      <th>depth</th>\n",
       "      <td>0.990925</td>\n",
       "      <td>0.990627</td>\n",
       "      <td>1.000000</td>\n",
       "      <td>0.881395</td>\n",
       "      <td>0.965830</td>\n",
       "      <td>0.991723</td>\n",
       "      <td>NaN</td>\n",
       "      <td>NaN</td>\n",
       "      <td>NaN</td>\n",
       "    </tr>\n",
       "    <tr>\n",
       "      <th>price</th>\n",
       "      <td>0.886655</td>\n",
       "      <td>0.888368</td>\n",
       "      <td>0.881395</td>\n",
       "      <td>1.000000</td>\n",
       "      <td>0.864877</td>\n",
       "      <td>0.855094</td>\n",
       "      <td>NaN</td>\n",
       "      <td>NaN</td>\n",
       "      <td>NaN</td>\n",
       "    </tr>\n",
       "    <tr>\n",
       "      <th>table</th>\n",
       "      <td>0.981370</td>\n",
       "      <td>0.981428</td>\n",
       "      <td>0.965830</td>\n",
       "      <td>0.864877</td>\n",
       "      <td>1.000000</td>\n",
       "      <td>0.974198</td>\n",
       "      <td>NaN</td>\n",
       "      <td>NaN</td>\n",
       "      <td>NaN</td>\n",
       "    </tr>\n",
       "    <tr>\n",
       "      <th>carat_log</th>\n",
       "      <td>0.992971</td>\n",
       "      <td>0.992600</td>\n",
       "      <td>0.991723</td>\n",
       "      <td>0.855094</td>\n",
       "      <td>0.974198</td>\n",
       "      <td>1.000000</td>\n",
       "      <td>NaN</td>\n",
       "      <td>NaN</td>\n",
       "      <td>NaN</td>\n",
       "    </tr>\n",
       "    <tr>\n",
       "      <th>cut_num</th>\n",
       "      <td>NaN</td>\n",
       "      <td>NaN</td>\n",
       "      <td>NaN</td>\n",
       "      <td>NaN</td>\n",
       "      <td>NaN</td>\n",
       "      <td>NaN</td>\n",
       "      <td>1.0</td>\n",
       "      <td>NaN</td>\n",
       "      <td>NaN</td>\n",
       "    </tr>\n",
       "    <tr>\n",
       "      <th>color_num</th>\n",
       "      <td>NaN</td>\n",
       "      <td>NaN</td>\n",
       "      <td>NaN</td>\n",
       "      <td>NaN</td>\n",
       "      <td>NaN</td>\n",
       "      <td>NaN</td>\n",
       "      <td>NaN</td>\n",
       "      <td>1.0</td>\n",
       "      <td>NaN</td>\n",
       "    </tr>\n",
       "    <tr>\n",
       "      <th>clarity_num</th>\n",
       "      <td>NaN</td>\n",
       "      <td>NaN</td>\n",
       "      <td>NaN</td>\n",
       "      <td>NaN</td>\n",
       "      <td>NaN</td>\n",
       "      <td>NaN</td>\n",
       "      <td>NaN</td>\n",
       "      <td>NaN</td>\n",
       "      <td>1.0</td>\n",
       "    </tr>\n",
       "  </tbody>\n",
       "</table>\n",
       "</div>"
      ],
      "text/plain": [
       "               length     width     depth     price     table  carat_log  \\\n",
       "length       1.000000  0.998622  0.990925  0.886655  0.981370   0.992971   \n",
       "width        0.998622  1.000000  0.990627  0.888368  0.981428   0.992600   \n",
       "depth        0.990925  0.990627  1.000000  0.881395  0.965830   0.991723   \n",
       "price        0.886655  0.888368  0.881395  1.000000  0.864877   0.855094   \n",
       "table        0.981370  0.981428  0.965830  0.864877  1.000000   0.974198   \n",
       "carat_log    0.992971  0.992600  0.991723  0.855094  0.974198   1.000000   \n",
       "cut_num           NaN       NaN       NaN       NaN       NaN        NaN   \n",
       "color_num         NaN       NaN       NaN       NaN       NaN        NaN   \n",
       "clarity_num       NaN       NaN       NaN       NaN       NaN        NaN   \n",
       "\n",
       "             cut_num  color_num  clarity_num  \n",
       "length           NaN        NaN          NaN  \n",
       "width            NaN        NaN          NaN  \n",
       "depth            NaN        NaN          NaN  \n",
       "price            NaN        NaN          NaN  \n",
       "table            NaN        NaN          NaN  \n",
       "carat_log        NaN        NaN          NaN  \n",
       "cut_num          1.0        NaN          NaN  \n",
       "color_num        NaN        1.0          NaN  \n",
       "clarity_num      NaN        NaN          1.0  "
      ]
     },
     "execution_count": 94,
     "metadata": {},
     "output_type": "execute_result"
    }
   ],
   "source": [
    "corr_ma = df.corr()\n",
    "corr_ma[corr_ma>0.8]"
   ]
  },
  {
   "cell_type": "code",
   "execution_count": 95,
   "metadata": {},
   "outputs": [
    {
     "data": {
      "text/plain": [
       "(array([0.5, 1.5, 2.5, 3.5, 4.5, 5.5, 6.5, 7.5, 8.5]),\n",
       " <a list of 9 Text major ticklabel objects>)"
      ]
     },
     "execution_count": 95,
     "metadata": {},
     "output_type": "execute_result"
    },
    {
     "data": {
      "image/png": "[encoded data removed]",
      "text/plain": [
       "<Figure size 720x504 with 2 Axes>"
      ]
     },
     "metadata": {
      "needs_background": "light"
     },
     "output_type": "display_data"
    }
   ],
   "source": [
    "mask = np.zeros_like(corr_ma, dtype=np.bool)\n",
    "mask[np.triu_indices_from(mask)] = True\n",
    "f, ax = plt.subplots(figsize=(10, 7))\n",
    "cmap = sns.diverging_palette(220, 10, as_cmap=True)\n",
    "sns.heatmap(corr_ma, mask=mask, cmap=cmap, vmin=-0.5,vmax=0.5, center=0,\n",
    "            square=True, linewidths=.5, cbar_kws={\"shrink\": .5})\n",
    "plt.yticks(rotation=45)"
   ]
  },
  {
   "cell_type": "markdown",
   "metadata": {},
   "source": [
    "There are a high correlation between features based on measures of diamond size and weight, but a small correlation o reversed correlation between with qualitative features. However these characteristics may be useful to value diamonds with similar characteristics of size."
   ]
  },
  {
   "cell_type": "markdown",
   "metadata": {},
   "source": [
    "## **3. Save the predictive features and the column to predict to train models**"
   ]
  },
  {
   "cell_type": "code",
   "execution_count": 96,
   "metadata": {},
   "outputs": [],
   "source": [
    "X_analysis = df.drop(columns=\"price\")"
   ]
  },
  {
   "cell_type": "code",
   "execution_count": 97,
   "metadata": {},
   "outputs": [
    {
     "data": {
      "text/html": [
       "<div>\n",
       "<style scoped>\n",
       "    .dataframe tbody tr th:only-of-type {\n",
       "        vertical-align: middle;\n",
       "    }\n",
       "\n",
       "    .dataframe tbody tr th {\n",
       "        vertical-align: top;\n",
       "    }\n",
       "\n",
       "    .dataframe thead th {\n",
       "        text-align: right;\n",
       "    }\n",
       "</style>\n",
       "<table border=\"1\" class=\"dataframe\">\n",
       "  <thead>\n",
       "    <tr style=\"text-align: right;\">\n",
       "      <th></th>\n",
       "      <th>length</th>\n",
       "      <th>width</th>\n",
       "      <th>depth</th>\n",
       "      <th>table</th>\n",
       "      <th>carat_log</th>\n",
       "      <th>cut_num</th>\n",
       "      <th>color_num</th>\n",
       "      <th>clarity_num</th>\n",
       "    </tr>\n",
       "  </thead>\n",
       "  <tbody>\n",
       "    <tr>\n",
       "      <th>0</th>\n",
       "      <td>6.73</td>\n",
       "      <td>6.70</td>\n",
       "      <td>4.23</td>\n",
       "      <td>3.8190</td>\n",
       "      <td>0.190620</td>\n",
       "      <td>4</td>\n",
       "      <td>2</td>\n",
       "      <td>3</td>\n",
       "    </tr>\n",
       "    <tr>\n",
       "      <th>1</th>\n",
       "      <td>4.14</td>\n",
       "      <td>4.17</td>\n",
       "      <td>2.66</td>\n",
       "      <td>2.3352</td>\n",
       "      <td>-1.272966</td>\n",
       "      <td>2</td>\n",
       "      <td>6</td>\n",
       "      <td>5</td>\n",
       "    </tr>\n",
       "    <tr>\n",
       "      <th>2</th>\n",
       "      <td>4.86</td>\n",
       "      <td>4.82</td>\n",
       "      <td>2.96</td>\n",
       "      <td>2.7956</td>\n",
       "      <td>-0.867501</td>\n",
       "      <td>3</td>\n",
       "      <td>4</td>\n",
       "      <td>4</td>\n",
       "    </tr>\n",
       "    <tr>\n",
       "      <th>3</th>\n",
       "      <td>4.16</td>\n",
       "      <td>4.12</td>\n",
       "      <td>2.53</td>\n",
       "      <td>2.3484</td>\n",
       "      <td>-1.347074</td>\n",
       "      <td>4</td>\n",
       "      <td>2</td>\n",
       "      <td>7</td>\n",
       "    </tr>\n",
       "    <tr>\n",
       "      <th>4</th>\n",
       "      <td>6.52</td>\n",
       "      <td>6.55</td>\n",
       "      <td>4.14</td>\n",
       "      <td>3.7335</td>\n",
       "      <td>0.095310</td>\n",
       "      <td>1</td>\n",
       "      <td>3</td>\n",
       "      <td>2</td>\n",
       "    </tr>\n",
       "  </tbody>\n",
       "</table>\n",
       "</div>"
      ],
      "text/plain": [
       "   length  width  depth   table  carat_log  cut_num  color_num  clarity_num\n",
       "0    6.73   6.70   4.23  3.8190   0.190620        4          2            3\n",
       "1    4.14   4.17   2.66  2.3352  -1.272966        2          6            5\n",
       "2    4.86   4.82   2.96  2.7956  -0.867501        3          4            4\n",
       "3    4.16   4.12   2.53  2.3484  -1.347074        4          2            7\n",
       "4    6.52   6.55   4.14  3.7335   0.095310        1          3            2"
      ]
     },
     "execution_count": 97,
     "metadata": {},
     "output_type": "execute_result"
    }
   ],
   "source": [
    "X_analysis.head()"
   ]
  },
  {
   "cell_type": "code",
   "execution_count": 98,
   "metadata": {},
   "outputs": [],
   "source": [
    "y_analysis = df[\"price\"]"
   ]
  },
  {
   "cell_type": "code",
   "execution_count": 99,
   "metadata": {},
   "outputs": [],
   "source": [
    "X_analysis.to_csv(\"../output/X.csv\")\n",
    "y_analysis.to_csv(\"../output/y.csv\")"
   ]
  }
 ],
 "metadata": {
  "kernelspec": {
   "display_name": "Python 3",
   "language": "python",
   "name": "python3"
  },
  "language_info": {
   "codemirror_mode": {
    "name": "ipython",
    "version": 3
   },
   "file_extension": ".py",
   "mimetype": "text/x-python",
   "name": "python",
   "nbconvert_exporter": "python",
   "pygments_lexer": "ipython3",
   "version": "3.7.5"
  }
 },
 "nbformat": 4,
 "nbformat_minor": 4
}
